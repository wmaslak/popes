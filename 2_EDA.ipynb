{
 "cells": [
  {
   "cell_type": "code",
   "execution_count": 1,
   "id": "adce166d-aed0-4c01-8f1b-f678b76da597",
   "metadata": {},
   "outputs": [
    {
     "name": "stderr",
     "output_type": "stream",
     "text": [
      "[nltk_data] Downloading package wordnet to\n",
      "[nltk_data]     C:\\Users\\wmasl\\AppData\\Roaming\\nltk_data...\n",
      "[nltk_data]   Package wordnet is already up-to-date!\n"
     ]
    }
   ],
   "source": [
    "# Questions to answer:\n",
    "#     - how many encyclicals each pope wrote\n",
    "#         -- ...per year of pontificate \n",
    "#     - what whas average length of it\n",
    "#     - term frequency of words for each pope\n",
    "#         -- possbly put the top words on a line (aka stream graph)\n",
    "#     - ...?\n",
    "import pandas as pd\n",
    "import numpy as np\n",
    "import matplotlib.pyplot as plt\n",
    "import itertools\n",
    "from helper_funs import *\n",
    "\n",
    "%matplotlib inline\n",
    "plt.rcParams['figure.figsize'] = [15, 7]\n",
    "# retrieve selected popes names\n",
    "with open(\"pickles/selected_popes_names\", \"rb\") as fp:   # Unpickling\n",
    "    popes = pickle.load(fp)"
   ]
  },
  {
   "cell_type": "markdown",
   "id": "554a42cb-dc1e-4b3a-8c42-4e6fecbeb366",
   "metadata": {},
   "source": [
    "## Get all texts to one df"
   ]
  },
  {
   "cell_type": "code",
   "execution_count": 5,
   "id": "878d0816-4d4e-4172-a905-0f191f96a2d3",
   "metadata": {},
   "outputs": [
    {
     "data": {
      "text/html": [
       "<div>\n",
       "<style scoped>\n",
       "    .dataframe tbody tr th:only-of-type {\n",
       "        vertical-align: middle;\n",
       "    }\n",
       "\n",
       "    .dataframe tbody tr th {\n",
       "        vertical-align: top;\n",
       "    }\n",
       "\n",
       "    .dataframe thead th {\n",
       "        text-align: right;\n",
       "    }\n",
       "</style>\n",
       "<table border=\"1\" class=\"dataframe\">\n",
       "  <thead>\n",
       "    <tr style=\"text-align: right;\">\n",
       "      <th></th>\n",
       "      <th>popes</th>\n",
       "      <th>enc_title</th>\n",
       "      <th>enc_date</th>\n",
       "      <th>enc_text</th>\n",
       "      <th>enc_file</th>\n",
       "    </tr>\n",
       "  </thead>\n",
       "  <tbody>\n",
       "    <tr>\n",
       "      <th>0</th>\n",
       "      <td>Francis</td>\n",
       "      <td>fratelli_tutti</td>\n",
       "      <td>20201003</td>\n",
       "      <td>\\n\\n\\n\\n\\n\\n\\nENCYCLICAL LETTER FRATELLI TUTTI...</td>\n",
       "      <td>enc_fratelli_tutti_20201003.txt</td>\n",
       "    </tr>\n",
       "    <tr>\n",
       "      <th>1</th>\n",
       "      <td>Francis</td>\n",
       "      <td>laudato_si</td>\n",
       "      <td>20150524</td>\n",
       "      <td>\\n\\n\\n\\n\\n\\n\\nENCYCLICAL LETTER  LAUDATO SI’  ...</td>\n",
       "      <td>enc_laudato_si_20150524.txt</td>\n",
       "    </tr>\n",
       "    <tr>\n",
       "      <th>2</th>\n",
       "      <td>Francis</td>\n",
       "      <td>lumen_fidei</td>\n",
       "      <td>20130629</td>\n",
       "      <td>\\n\\n\\n\\n\\n\\n\\n\\n\\n\\n \\n      DOWNLOAD PDF\\n\\n\\...</td>\n",
       "      <td>enc_lumen_fidei_20130629.txt</td>\n",
       "    </tr>\n",
       "    <tr>\n",
       "      <th>3</th>\n",
       "      <td>Benedict XVI</td>\n",
       "      <td>caritas_in_veritate</td>\n",
       "      <td>20090629</td>\n",
       "      <td>\\n\\n\\n\\n\\n\\n\\nENCYCLICAL LETTER CARITAS IN VER...</td>\n",
       "      <td>enc_caritas_in_veritate_20090629.txt</td>\n",
       "    </tr>\n",
       "    <tr>\n",
       "      <th>4</th>\n",
       "      <td>Benedict XVI</td>\n",
       "      <td>deus_caritas_est</td>\n",
       "      <td>20051225</td>\n",
       "      <td>\\n\\n\\n\\n\\n\\n\\nENCYCLICAL LETTER  DEUS CARITAS ...</td>\n",
       "      <td>enc_deus_caritas_est_20051225.txt</td>\n",
       "    </tr>\n",
       "    <tr>\n",
       "      <th>...</th>\n",
       "      <td>...</td>\n",
       "      <td>...</td>\n",
       "      <td>...</td>\n",
       "      <td>...</td>\n",
       "      <td>...</td>\n",
       "    </tr>\n",
       "    <tr>\n",
       "      <th>208</th>\n",
       "      <td>Leo XIII</td>\n",
       "      <td>superiore_anno</td>\n",
       "      <td>30081884</td>\n",
       "      <td>\\n\\n\\n\\n\\n\\n\\nSUPERIORE ANNOENCYCLICAL OF POPE...</td>\n",
       "      <td>enc_superiore_anno_30081884.txt</td>\n",
       "    </tr>\n",
       "    <tr>\n",
       "      <th>209</th>\n",
       "      <td>Leo XIII</td>\n",
       "      <td>supremi_apostolatus_officio</td>\n",
       "      <td>01091883</td>\n",
       "      <td>\\n\\n\\n\\n\\n\\n\\nSUPREMIAPOSTOLATUS OFFICIOENCYCL...</td>\n",
       "      <td>enc_supremi_apostolatus_officio_01091883.txt</td>\n",
       "    </tr>\n",
       "    <tr>\n",
       "      <th>210</th>\n",
       "      <td>Leo XIII</td>\n",
       "      <td>tametsi_futura_prospicientibus</td>\n",
       "      <td>01111900</td>\n",
       "      <td>\\n\\n\\n\\n\\n\\n\\n  TAMETSI FUTURA  PROSPICIENTIBU...</td>\n",
       "      <td>enc_tametsi_futura_prospicientibus_01111900.txt</td>\n",
       "    </tr>\n",
       "    <tr>\n",
       "      <th>211</th>\n",
       "      <td>Leo XIII</td>\n",
       "      <td>urbanitatis_veteris</td>\n",
       "      <td>20111901</td>\n",
       "      <td>\\n\\n\\n\\n\\n\\n\\n \\nURBANITATIS VETERISENCYCLICAL...</td>\n",
       "      <td>enc_urbanitatis_veteris_20111901.txt</td>\n",
       "    </tr>\n",
       "    <tr>\n",
       "      <th>212</th>\n",
       "      <td>Leo XIII</td>\n",
       "      <td>vi_e_ben_noto</td>\n",
       "      <td>20091887</td>\n",
       "      <td>\\n\\n\\n\\n\\n\\n\\nVI È BEN NOTO\\nENCYCLICAL OF POP...</td>\n",
       "      <td>enc_vi_e_ben_noto_20091887.txt</td>\n",
       "    </tr>\n",
       "  </tbody>\n",
       "</table>\n",
       "<p>213 rows × 5 columns</p>\n",
       "</div>"
      ],
      "text/plain": [
       "            popes                       enc_title  enc_date  \\\n",
       "0         Francis                  fratelli_tutti  20201003   \n",
       "1         Francis                      laudato_si  20150524   \n",
       "2         Francis                     lumen_fidei  20130629   \n",
       "3    Benedict XVI             caritas_in_veritate  20090629   \n",
       "4    Benedict XVI                deus_caritas_est  20051225   \n",
       "..            ...                             ...       ...   \n",
       "208      Leo XIII                  superiore_anno  30081884   \n",
       "209      Leo XIII     supremi_apostolatus_officio  01091883   \n",
       "210      Leo XIII  tametsi_futura_prospicientibus  01111900   \n",
       "211      Leo XIII             urbanitatis_veteris  20111901   \n",
       "212      Leo XIII                   vi_e_ben_noto  20091887   \n",
       "\n",
       "                                              enc_text  \\\n",
       "0    \\n\\n\\n\\n\\n\\n\\nENCYCLICAL LETTER FRATELLI TUTTI...   \n",
       "1    \\n\\n\\n\\n\\n\\n\\nENCYCLICAL LETTER  LAUDATO SI’  ...   \n",
       "2    \\n\\n\\n\\n\\n\\n\\n\\n\\n\\n \\n      DOWNLOAD PDF\\n\\n\\...   \n",
       "3    \\n\\n\\n\\n\\n\\n\\nENCYCLICAL LETTER CARITAS IN VER...   \n",
       "4    \\n\\n\\n\\n\\n\\n\\nENCYCLICAL LETTER  DEUS CARITAS ...   \n",
       "..                                                 ...   \n",
       "208  \\n\\n\\n\\n\\n\\n\\nSUPERIORE ANNOENCYCLICAL OF POPE...   \n",
       "209  \\n\\n\\n\\n\\n\\n\\nSUPREMIAPOSTOLATUS OFFICIOENCYCL...   \n",
       "210  \\n\\n\\n\\n\\n\\n\\n  TAMETSI FUTURA  PROSPICIENTIBU...   \n",
       "211  \\n\\n\\n\\n\\n\\n\\n \\nURBANITATIS VETERISENCYCLICAL...   \n",
       "212  \\n\\n\\n\\n\\n\\n\\nVI È BEN NOTO\\nENCYCLICAL OF POP...   \n",
       "\n",
       "                                            enc_file  \n",
       "0                    enc_fratelli_tutti_20201003.txt  \n",
       "1                        enc_laudato_si_20150524.txt  \n",
       "2                       enc_lumen_fidei_20130629.txt  \n",
       "3               enc_caritas_in_veritate_20090629.txt  \n",
       "4                  enc_deus_caritas_est_20051225.txt  \n",
       "..                                               ...  \n",
       "208                  enc_superiore_anno_30081884.txt  \n",
       "209     enc_supremi_apostolatus_officio_01091883.txt  \n",
       "210  enc_tametsi_futura_prospicientibus_01111900.txt  \n",
       "211             enc_urbanitatis_veteris_20111901.txt  \n",
       "212                   enc_vi_e_ben_noto_20091887.txt  \n",
       "\n",
       "[213 rows x 5 columns]"
      ]
     },
     "execution_count": 5,
     "metadata": {},
     "output_type": "execute_result"
    }
   ],
   "source": [
    "df = get_df_of_enc(pope = 'all')\n",
    "df"
   ]
  },
  {
   "cell_type": "markdown",
   "id": "cf037752-4ada-4d9d-85cb-cd2798b91507",
   "metadata": {},
   "source": [
    "## Number of encyclicals per pope"
   ]
  },
  {
   "cell_type": "code",
   "execution_count": 7,
   "id": "6a71e7c7-5bcf-47bf-9464-4a33bdc5eec5",
   "metadata": {},
   "outputs": [
    {
     "data": {
      "text/plain": [
       "Text(0.5, 1.0, 'Number of encyclicals')"
      ]
     },
     "execution_count": 7,
     "metadata": {},
     "output_type": "execute_result"
    },
    {
     "data": {
      "image/png": "[encoded data removed]",
      "text/plain": [
       "<Figure size 1080x504 with 1 Axes>"
      ]
     },
     "metadata": {
      "needs_background": "light"
     },
     "output_type": "display_data"
    }
   ],
   "source": [
    "# how many encyclicals each pope wrote\n",
    "ax = df.groupby('popes').count().reset_index().sort_values('enc_file').plot.bar(x = 'popes',y = 'enc_title',fontsize = 12)\n",
    "ax.get_legend().remove()\n",
    "ax.bar_label(ax.containers[0],fontsize = 14)\n",
    "plt.title('Number of encyclicals',{'fontsize':18})"
   ]
  },
  {
   "cell_type": "markdown",
   "id": "53a1a05b-6937-4a4d-92f2-5d87a4e25313",
   "metadata": {},
   "source": [
    "## Average length of encyclical per pope"
   ]
  },
  {
   "cell_type": "code",
   "execution_count": 8,
   "id": "2597e8a0-d99b-44ae-a1ca-bb770ef256ce",
   "metadata": {},
   "outputs": [
    {
     "data": {
      "text/plain": [
       "Text(0.5, 1.0, 'Average number of characters in encyclical (without special special chars)')"
      ]
     },
     "execution_count": 8,
     "metadata": {},
     "output_type": "execute_result"
    },
    {
     "data": {
      "image/png": "[encoded data removed]",
      "text/plain": [
       "<Figure size 1080x504 with 1 Axes>"
      ]
     },
     "metadata": {
      "needs_background": "light"
     },
     "output_type": "display_data"
    }
   ],
   "source": [
    "# what whas average length of it\n",
    "df_avg_length = df.copy()\n",
    "\n",
    "df_avg_length['enc_text'] = df['enc_text'].apply(lambda x: re.sub('\\s+','',x))\n",
    "\n",
    "ax = df_avg_length.groupby('popes')['enc_text'\n",
    "                                   ].apply(lambda x: np.mean(x.str.len())\n",
    "                                          ).reset_index(name='mean_len_text'\n",
    "                                                       ).sort_values('mean_len_text'\n",
    "                                                                    ).plot.bar(x = 'popes', y = 'mean_len_text',fontsize = 12)\n",
    "ax.get_legend().remove()\n",
    "ax.bar_label(ax.containers[0],fontsize = 14)\n",
    "plt.title('Average number of characters in encyclical (without special special chars)',{'fontsize':15})"
   ]
  },
  {
   "cell_type": "markdown",
   "id": "d3d7985a-a887-4ce0-b606-5617e937966a",
   "metadata": {},
   "source": [
    "## Most common words used by each pope"
   ]
  },
  {
   "cell_type": "code",
   "execution_count": 9,
   "id": "2b4a3640-7eb4-4809-b64e-0d1dc1f673c5",
   "metadata": {},
   "outputs": [
    {
     "data": {
      "text/html": [
       "<div>\n",
       "<style scoped>\n",
       "    .dataframe tbody tr th:only-of-type {\n",
       "        vertical-align: middle;\n",
       "    }\n",
       "\n",
       "    .dataframe tbody tr th {\n",
       "        vertical-align: top;\n",
       "    }\n",
       "\n",
       "    .dataframe thead th {\n",
       "        text-align: right;\n",
       "    }\n",
       "</style>\n",
       "<table border=\"1\" class=\"dataframe\">\n",
       "  <thead>\n",
       "    <tr style=\"text-align: right;\">\n",
       "      <th></th>\n",
       "      <th>popes</th>\n",
       "      <th>enc_file</th>\n",
       "      <th>enc_text</th>\n",
       "    </tr>\n",
       "  </thead>\n",
       "  <tbody>\n",
       "    <tr>\n",
       "      <th>0</th>\n",
       "      <td>Francis</td>\n",
       "      <td>Francis_encyclicals.txt</td>\n",
       "      <td>\\n\\n\\n\\n\\n\\n\\nENCYCLICAL LETTER FRATELLI TUTTI...</td>\n",
       "    </tr>\n",
       "    <tr>\n",
       "      <th>1</th>\n",
       "      <td>Benedict XVI</td>\n",
       "      <td>Benedict XVI_encyclicals.txt</td>\n",
       "      <td>\\n\\n\\n\\n\\n\\n\\nENCYCLICAL LETTER CARITAS IN VER...</td>\n",
       "    </tr>\n",
       "    <tr>\n",
       "      <th>2</th>\n",
       "      <td>John Paul II</td>\n",
       "      <td>John Paul II_encyclicals.txt</td>\n",
       "      <td>\\n\\n\\n\\n\\n JOHN PAUL II  HOLY FATHER   « CENTE...</td>\n",
       "    </tr>\n",
       "    <tr>\n",
       "      <th>3</th>\n",
       "      <td>Paul VI</td>\n",
       "      <td>Paul VI_encyclicals.txt</td>\n",
       "      <td>\\n\\n\\n\\n\\n\\n   CHRISTI MATRI  \\nENCYCLICAL OF ...</td>\n",
       "    </tr>\n",
       "    <tr>\n",
       "      <th>4</th>\n",
       "      <td>John XXIII</td>\n",
       "      <td>John XXIII_encyclicals.txt</td>\n",
       "      <td>\\n\\n\\n\\n\\n\\n\\n   AD PETRI CATHEDRAM  \\nENCYCLI...</td>\n",
       "    </tr>\n",
       "    <tr>\n",
       "      <th>5</th>\n",
       "      <td>Pius XII</td>\n",
       "      <td>Pius XII_encyclicals.txt</td>\n",
       "      <td>\\n\\n\\n\\n\\n\\n\\n   AD APOSTOLORUM PRINCIPIS  \\n ...</td>\n",
       "    </tr>\n",
       "    <tr>\n",
       "      <th>6</th>\n",
       "      <td>Pius XI</td>\n",
       "      <td>Pius XI_encyclicals.txt</td>\n",
       "      <td>\\n\\n\\n\\n\\n\\n\\n  ACERBA ANIMI  ENCYCLICAL OF PO...</td>\n",
       "    </tr>\n",
       "    <tr>\n",
       "      <th>7</th>\n",
       "      <td>Benedict XV</td>\n",
       "      <td>Benedict XV_encyclicals.txt</td>\n",
       "      <td>\\n\\n\\n\\n\\n\\n\\n  \\n\\nAD BEATISSIMI APOSTOLORUM ...</td>\n",
       "    </tr>\n",
       "    <tr>\n",
       "      <th>8</th>\n",
       "      <td>Pius X</td>\n",
       "      <td>Pius X_encyclicals.txt</td>\n",
       "      <td>\\n\\n\\n\\n\\n\\n\\n  ACERBO NIMIS \\n\\nENCYCLICAL OF...</td>\n",
       "    </tr>\n",
       "    <tr>\n",
       "      <th>9</th>\n",
       "      <td>Leo XIII</td>\n",
       "      <td>Leo XIII_encyclicals.txt</td>\n",
       "      <td>\\n\\n\\n\\n\\n\\n\\nADIUTRICEMENCYCLICAL OF POPE LEO...</td>\n",
       "    </tr>\n",
       "  </tbody>\n",
       "</table>\n",
       "</div>"
      ],
      "text/plain": [
       "          popes                      enc_file  \\\n",
       "0       Francis       Francis_encyclicals.txt   \n",
       "1  Benedict XVI  Benedict XVI_encyclicals.txt   \n",
       "2  John Paul II  John Paul II_encyclicals.txt   \n",
       "3       Paul VI       Paul VI_encyclicals.txt   \n",
       "4    John XXIII    John XXIII_encyclicals.txt   \n",
       "5      Pius XII      Pius XII_encyclicals.txt   \n",
       "6       Pius XI       Pius XI_encyclicals.txt   \n",
       "7   Benedict XV   Benedict XV_encyclicals.txt   \n",
       "8        Pius X        Pius X_encyclicals.txt   \n",
       "9      Leo XIII      Leo XIII_encyclicals.txt   \n",
       "\n",
       "                                            enc_text  \n",
       "0  \\n\\n\\n\\n\\n\\n\\nENCYCLICAL LETTER FRATELLI TUTTI...  \n",
       "1  \\n\\n\\n\\n\\n\\n\\nENCYCLICAL LETTER CARITAS IN VER...  \n",
       "2  \\n\\n\\n\\n\\n JOHN PAUL II  HOLY FATHER   « CENTE...  \n",
       "3  \\n\\n\\n\\n\\n\\n   CHRISTI MATRI  \\nENCYCLICAL OF ...  \n",
       "4  \\n\\n\\n\\n\\n\\n\\n   AD PETRI CATHEDRAM  \\nENCYCLI...  \n",
       "5  \\n\\n\\n\\n\\n\\n\\n   AD APOSTOLORUM PRINCIPIS  \\n ...  \n",
       "6  \\n\\n\\n\\n\\n\\n\\n  ACERBA ANIMI  ENCYCLICAL OF PO...  \n",
       "7  \\n\\n\\n\\n\\n\\n\\n  \\n\\nAD BEATISSIMI APOSTOLORUM ...  \n",
       "8  \\n\\n\\n\\n\\n\\n\\n  ACERBO NIMIS \\n\\nENCYCLICAL OF...  \n",
       "9  \\n\\n\\n\\n\\n\\n\\nADIUTRICEMENCYCLICAL OF POPE LEO...  "
      ]
     },
     "execution_count": 9,
     "metadata": {},
     "output_type": "execute_result"
    }
   ],
   "source": [
    "# term frequency of words for each pope\n",
    "df_merged = get_df_of_merged_enc()\n",
    "df_merged"
   ]
  },
  {
   "cell_type": "code",
   "execution_count": 17,
   "id": "b1e366b0-754c-4b78-947f-571498d51ec8",
   "metadata": {},
   "outputs": [],
   "source": [
    "add_stopwords = ['loc','cit','cf','ibid','aas','tps',\n",
    "                 'editrice','copyright', 'libreria', \n",
    "                 'vaticana','l','osservatore', 'romano',\n",
    "                'download','pdf', 'ibdem', 'venerable', 'brethen',\n",
    "                'epist','ad','id']\n",
    "\n",
    "add_characters_to_clean = ['“','’','”','©']\n",
    "\n",
    "# save these lists\n",
    "with open(\"pickles/add_stopwords\", \"wb\") as fp:   #Pickling\n",
    "    pickle.dump(add_stopwords, fp)\n",
    "    \n",
    "with open(\"pickles/add_characters_to_clean\", \"wb\") as fp:   #Pickling\n",
    "    pickle.dump(add_characters_to_clean, fp) \n",
    "\n",
    "\n",
    "def print_top_k_n_grams(pope,N = 1 , k = 5):\n",
    "    text = df_merged[df_merged['popes'] == pope].iloc[0]['enc_text']\n",
    "    text_proc = preprocess_text(text,True,True,True, add_chars_to_clean = add_characters_to_clean , add_stopwords = add_stopwords)\n",
    "    top = get_top_k_ngrams(text_proc,k = 5,n=N,freq =True)\n",
    "    top_df = pd.DataFrame(top, columns = ['phrase','freq'])\n",
    "    top_df['freq'] = top_df['freq']\n",
    "    #top_df = top_df.style.format({'freq': '{:,.2%}'.format})\n",
    "    top_df.style.format({'freq': '{:,.2%}'.format})\n",
    "    print(f'Top {N}-grams for pope {pope} are:\\n')\n",
    "    display(top_df.style.format({'freq': '{:,.2%}'.format}))\n",
    "    print('')"
   ]
  },
  {
   "cell_type": "code",
   "execution_count": 18,
   "id": "0751808d-79a2-47b8-8e88-fe2e89b80cc7",
   "metadata": {},
   "outputs": [
    {
     "name": "stdout",
     "output_type": "stream",
     "text": [
      "Top 2-grams for pope Francis are:\n",
      "\n"
     ]
    },
    {
     "data": {
      "text/html": [
       "<style type=\"text/css\">\n",
       "</style>\n",
       "<table id=\"T_fbbc5_\">\n",
       "  <thead>\n",
       "    <tr>\n",
       "      <th class=\"blank level0\" >&nbsp;</th>\n",
       "      <th class=\"col_heading level0 col0\" >phrase</th>\n",
       "      <th class=\"col_heading level0 col1\" >freq</th>\n",
       "    </tr>\n",
       "  </thead>\n",
       "  <tbody>\n",
       "    <tr>\n",
       "      <th id=\"T_fbbc5_level0_row0\" class=\"row_heading level0 row0\" >0</th>\n",
       "      <td id=\"T_fbbc5_row0_col0\" class=\"data row0 col0\" >('can', 'not')</td>\n",
       "      <td id=\"T_fbbc5_row0_col1\" class=\"data row0 col1\" >0.23%</td>\n",
       "    </tr>\n",
       "    <tr>\n",
       "      <th id=\"T_fbbc5_level0_row1\" class=\"row_heading level0 row1\" >1</th>\n",
       "      <td id=\"T_fbbc5_row1_col0\" class=\"data row1 col0\" >('encyclical', 'letter')</td>\n",
       "      <td id=\"T_fbbc5_row1_col1\" class=\"data row1 col1\" >0.17%</td>\n",
       "    </tr>\n",
       "    <tr>\n",
       "      <th id=\"T_fbbc5_level0_row2\" class=\"row_heading level0 row2\" >2</th>\n",
       "      <td id=\"T_fbbc5_row2_col0\" class=\"data row2 col0\" >('human', 'beings')</td>\n",
       "      <td id=\"T_fbbc5_row2_col1\" class=\"data row2 col1\" >0.14%</td>\n",
       "    </tr>\n",
       "    <tr>\n",
       "      <th id=\"T_fbbc5_level0_row3\" class=\"row_heading level0 row3\" >3</th>\n",
       "      <td id=\"T_fbbc5_row3_col0\" class=\"data row3 col0\" >('common', 'good')</td>\n",
       "      <td id=\"T_fbbc5_row3_col1\" class=\"data row3 col1\" >0.14%</td>\n",
       "    </tr>\n",
       "    <tr>\n",
       "      <th id=\"T_fbbc5_level0_row4\" class=\"row_heading level0 row4\" >4</th>\n",
       "      <td id=\"T_fbbc5_row4_col0\" class=\"data row4 col0\" >('brothers', 'sisters')</td>\n",
       "      <td id=\"T_fbbc5_row4_col1\" class=\"data row4 col1\" >0.08%</td>\n",
       "    </tr>\n",
       "  </tbody>\n",
       "</table>\n"
      ],
      "text/plain": [
       "<pandas.io.formats.style.Styler at 0x1fc3bee5460>"
      ]
     },
     "metadata": {},
     "output_type": "display_data"
    },
    {
     "name": "stdout",
     "output_type": "stream",
     "text": [
      "\n",
      "Top 2-grams for pope Benedict XVI are:\n",
      "\n"
     ]
    },
    {
     "data": {
      "text/html": [
       "<style type=\"text/css\">\n",
       "</style>\n",
       "<table id=\"T_f5f69_\">\n",
       "  <thead>\n",
       "    <tr>\n",
       "      <th class=\"blank level0\" >&nbsp;</th>\n",
       "      <th class=\"col_heading level0 col0\" >phrase</th>\n",
       "      <th class=\"col_heading level0 col1\" >freq</th>\n",
       "    </tr>\n",
       "  </thead>\n",
       "  <tbody>\n",
       "    <tr>\n",
       "      <th id=\"T_f5f69_level0_row0\" class=\"row_heading level0 row0\" >0</th>\n",
       "      <td id=\"T_f5f69_row0_col0\" class=\"data row0 col0\" >('encyclical', 'letter')</td>\n",
       "      <td id=\"T_f5f69_row0_col1\" class=\"data row0 col1\" >0.26%</td>\n",
       "    </tr>\n",
       "    <tr>\n",
       "      <th id=\"T_f5f69_level0_row1\" class=\"row_heading level0 row1\" >1</th>\n",
       "      <td id=\"T_f5f69_row1_col0\" class=\"data row1 col0\" >('can', 'not')</td>\n",
       "      <td id=\"T_f5f69_row1_col1\" class=\"data row1 col1\" >0.24%</td>\n",
       "    </tr>\n",
       "    <tr>\n",
       "      <th id=\"T_f5f69_level0_row2\" class=\"row_heading level0 row2\" >2</th>\n",
       "      <td id=\"T_f5f69_row2_col0\" class=\"data row2 col0\" >('paul', 'vi')</td>\n",
       "      <td id=\"T_f5f69_row2_col1\" class=\"data row2 col1\" >0.19%</td>\n",
       "    </tr>\n",
       "    <tr>\n",
       "      <th id=\"T_f5f69_level0_row3\" class=\"row_heading level0 row3\" >3</th>\n",
       "      <td id=\"T_f5f69_row3_col0\" class=\"data row3 col0\" >('john', 'paul')</td>\n",
       "      <td id=\"T_f5f69_row3_col1\" class=\"data row3 col1\" >0.18%</td>\n",
       "    </tr>\n",
       "    <tr>\n",
       "      <th id=\"T_f5f69_level0_row4\" class=\"row_heading level0 row4\" >4</th>\n",
       "      <td id=\"T_f5f69_row4_col0\" class=\"data row4 col0\" >('paul', 'ii')</td>\n",
       "      <td id=\"T_f5f69_row4_col1\" class=\"data row4 col1\" >0.17%</td>\n",
       "    </tr>\n",
       "  </tbody>\n",
       "</table>\n"
      ],
      "text/plain": [
       "<pandas.io.formats.style.Styler at 0x1fc3bee5640>"
      ]
     },
     "metadata": {},
     "output_type": "display_data"
    },
    {
     "name": "stdout",
     "output_type": "stream",
     "text": [
      "\n",
      "Top 2-grams for pope John Paul II are:\n",
      "\n"
     ]
    },
    {
     "data": {
      "text/html": [
       "<style type=\"text/css\">\n",
       "</style>\n",
       "<table id=\"T_760a2_\">\n",
       "  <thead>\n",
       "    <tr>\n",
       "      <th class=\"blank level0\" >&nbsp;</th>\n",
       "      <th class=\"col_heading level0 col0\" >phrase</th>\n",
       "      <th class=\"col_heading level0 col1\" >freq</th>\n",
       "    </tr>\n",
       "  </thead>\n",
       "  <tbody>\n",
       "    <tr>\n",
       "      <th id=\"T_760a2_level0_row0\" class=\"row_heading level0 row0\" >0</th>\n",
       "      <td id=\"T_760a2_row0_col0\" class=\"data row0 col0\" >('holy', 'spirit')</td>\n",
       "      <td id=\"T_760a2_row0_col1\" class=\"data row0 col1\" >0.27%</td>\n",
       "    </tr>\n",
       "    <tr>\n",
       "      <th id=\"T_760a2_level0_row1\" class=\"row_heading level0 row1\" >1</th>\n",
       "      <td id=\"T_760a2_row1_col0\" class=\"data row1 col0\" >('second', 'vatican')</td>\n",
       "      <td id=\"T_760a2_row1_col1\" class=\"data row1 col1\" >0.22%</td>\n",
       "    </tr>\n",
       "    <tr>\n",
       "      <th id=\"T_760a2_level0_row2\" class=\"row_heading level0 row2\" >2</th>\n",
       "      <td id=\"T_760a2_row2_col0\" class=\"data row2 col0\" >('ecumenical', 'council')</td>\n",
       "      <td id=\"T_760a2_row2_col1\" class=\"data row2 col1\" >0.14%</td>\n",
       "    </tr>\n",
       "    <tr>\n",
       "      <th id=\"T_760a2_level0_row3\" class=\"row_heading level0 row3\" >3</th>\n",
       "      <td id=\"T_760a2_row3_col0\" class=\"data row3 col0\" >('can', 'not')</td>\n",
       "      <td id=\"T_760a2_row3_col1\" class=\"data row3 col1\" >0.13%</td>\n",
       "    </tr>\n",
       "    <tr>\n",
       "      <th id=\"T_760a2_level0_row4\" class=\"row_heading level0 row4\" >4</th>\n",
       "      <td id=\"T_760a2_row4_col0\" class=\"data row4 col0\" >('vatican', 'ecumenical')</td>\n",
       "      <td id=\"T_760a2_row4_col1\" class=\"data row4 col1\" >0.13%</td>\n",
       "    </tr>\n",
       "  </tbody>\n",
       "</table>\n"
      ],
      "text/plain": [
       "<pandas.io.formats.style.Styler at 0x1fc3bee54c0>"
      ]
     },
     "metadata": {},
     "output_type": "display_data"
    },
    {
     "name": "stdout",
     "output_type": "stream",
     "text": [
      "\n",
      "Top 2-grams for pope Paul VI are:\n",
      "\n"
     ]
    },
    {
     "data": {
      "text/html": [
       "<style type=\"text/css\">\n",
       "</style>\n",
       "<table id=\"T_9d216_\">\n",
       "  <thead>\n",
       "    <tr>\n",
       "      <th class=\"blank level0\" >&nbsp;</th>\n",
       "      <th class=\"col_heading level0 col0\" >phrase</th>\n",
       "      <th class=\"col_heading level0 col1\" >freq</th>\n",
       "    </tr>\n",
       "  </thead>\n",
       "  <tbody>\n",
       "    <tr>\n",
       "      <th id=\"T_9d216_level0_row0\" class=\"row_heading level0 row0\" >0</th>\n",
       "      <td id=\"T_9d216_row0_col0\" class=\"data row0 col0\" >('can', 'not')</td>\n",
       "      <td id=\"T_9d216_row0_col1\" class=\"data row0 col1\" >0.18%</td>\n",
       "    </tr>\n",
       "    <tr>\n",
       "      <th id=\"T_9d216_level0_row1\" class=\"row_heading level0 row1\" >1</th>\n",
       "      <td id=\"T_9d216_row1_col0\" class=\"data row1 col0\" >('vatican', 'council')</td>\n",
       "      <td id=\"T_9d216_row1_col1\" class=\"data row1 col1\" >0.11%</td>\n",
       "    </tr>\n",
       "    <tr>\n",
       "      <th id=\"T_9d216_level0_row2\" class=\"row_heading level0 row2\" >2</th>\n",
       "      <td id=\"T_9d216_row2_col0\" class=\"data row2 col0\" >('second', 'vatican')</td>\n",
       "      <td id=\"T_9d216_row2_col1\" class=\"data row2 col1\" >0.10%</td>\n",
       "    </tr>\n",
       "    <tr>\n",
       "      <th id=\"T_9d216_level0_row3\" class=\"row_heading level0 row3\" >3</th>\n",
       "      <td id=\"T_9d216_row3_col0\" class=\"data row3 col0\" >('constitution', 'church')</td>\n",
       "      <td id=\"T_9d216_row3_col1\" class=\"data row3 col1\" >0.09%</td>\n",
       "    </tr>\n",
       "    <tr>\n",
       "      <th id=\"T_9d216_level0_row4\" class=\"row_heading level0 row4\" >4</th>\n",
       "      <td id=\"T_9d216_row4_col0\" class=\"data row4 col0\" >('world', 'today')</td>\n",
       "      <td id=\"T_9d216_row4_col1\" class=\"data row4 col1\" >0.09%</td>\n",
       "    </tr>\n",
       "  </tbody>\n",
       "</table>\n"
      ],
      "text/plain": [
       "<pandas.io.formats.style.Styler at 0x1fc3bee52b0>"
      ]
     },
     "metadata": {},
     "output_type": "display_data"
    },
    {
     "name": "stdout",
     "output_type": "stream",
     "text": [
      "\n",
      "Top 2-grams for pope John XXIII are:\n",
      "\n"
     ]
    },
    {
     "data": {
      "text/html": [
       "<style type=\"text/css\">\n",
       "</style>\n",
       "<table id=\"T_c2c23_\">\n",
       "  <thead>\n",
       "    <tr>\n",
       "      <th class=\"blank level0\" >&nbsp;</th>\n",
       "      <th class=\"col_heading level0 col0\" >phrase</th>\n",
       "      <th class=\"col_heading level0 col1\" >freq</th>\n",
       "    </tr>\n",
       "  </thead>\n",
       "  <tbody>\n",
       "    <tr>\n",
       "      <th id=\"T_c2c23_level0_row0\" class=\"row_heading level0 row0\" >0</th>\n",
       "      <td id=\"T_c2c23_row0_col0\" class=\"data row0 col0\" >('common', 'good')</td>\n",
       "      <td id=\"T_c2c23_row0_col1\" class=\"data row0 col1\" >0.18%</td>\n",
       "    </tr>\n",
       "    <tr>\n",
       "      <th id=\"T_c2c23_level0_row1\" class=\"row_heading level0 row1\" >1</th>\n",
       "      <td id=\"T_c2c23_row1_col0\" class=\"data row1 col0\" >('can', 'not')</td>\n",
       "      <td id=\"T_c2c23_row1_col1\" class=\"data row1 col1\" >0.15%</td>\n",
       "    </tr>\n",
       "    <tr>\n",
       "      <th id=\"T_c2c23_level0_row2\" class=\"row_heading level0 row2\" >2</th>\n",
       "      <td id=\"T_c2c23_row2_col0\" class=\"data row2 col0\" >('encyclical', 'letter')</td>\n",
       "      <td id=\"T_c2c23_row2_col1\" class=\"data row2 col1\" >0.15%</td>\n",
       "    </tr>\n",
       "    <tr>\n",
       "      <th id=\"T_c2c23_level0_row3\" class=\"row_heading level0 row3\" >3</th>\n",
       "      <td id=\"T_c2c23_row3_col0\" class=\"data row3 col0\" >('pius', 'xii')</td>\n",
       "      <td id=\"T_c2c23_row3_col1\" class=\"data row3 col1\" >0.12%</td>\n",
       "    </tr>\n",
       "    <tr>\n",
       "      <th id=\"T_c2c23_level0_row4\" class=\"row_heading level0 row4\" >4</th>\n",
       "      <td id=\"T_c2c23_row4_col0\" class=\"data row4 col0\" >('pius', 'xiis')</td>\n",
       "      <td id=\"T_c2c23_row4_col1\" class=\"data row4 col1\" >0.12%</td>\n",
       "    </tr>\n",
       "  </tbody>\n",
       "</table>\n"
      ],
      "text/plain": [
       "<pandas.io.formats.style.Styler at 0x1fc3bee5400>"
      ]
     },
     "metadata": {},
     "output_type": "display_data"
    },
    {
     "name": "stdout",
     "output_type": "stream",
     "text": [
      "\n",
      "Top 2-grams for pope Pius XII are:\n",
      "\n"
     ]
    },
    {
     "data": {
      "text/html": [
       "<style type=\"text/css\">\n",
       "</style>\n",
       "<table id=\"T_9a384_\">\n",
       "  <thead>\n",
       "    <tr>\n",
       "      <th class=\"blank level0\" >&nbsp;</th>\n",
       "      <th class=\"col_heading level0 col0\" >phrase</th>\n",
       "      <th class=\"col_heading level0 col1\" >freq</th>\n",
       "    </tr>\n",
       "  </thead>\n",
       "  <tbody>\n",
       "    <tr>\n",
       "      <th id=\"T_9a384_level0_row0\" class=\"row_heading level0 row0\" >0</th>\n",
       "      <td id=\"T_9a384_row0_col0\" class=\"data row0 col0\" >('jesus', 'christ')</td>\n",
       "      <td id=\"T_9a384_row0_col1\" class=\"data row0 col1\" >0.20%</td>\n",
       "    </tr>\n",
       "    <tr>\n",
       "      <th id=\"T_9a384_level0_row1\" class=\"row_heading level0 row1\" >1</th>\n",
       "      <td id=\"T_9a384_row1_col0\" class=\"data row1 col0\" >('can', 'not')</td>\n",
       "      <td id=\"T_9a384_row1_col1\" class=\"data row1 col1\" >0.13%</td>\n",
       "    </tr>\n",
       "    <tr>\n",
       "      <th id=\"T_9a384_level0_row2\" class=\"row_heading level0 row2\" >2</th>\n",
       "      <td id=\"T_9a384_row2_col0\" class=\"data row2 col0\" >('apostolic', 'see')</td>\n",
       "      <td id=\"T_9a384_row2_col1\" class=\"data row2 col1\" >0.11%</td>\n",
       "    </tr>\n",
       "    <tr>\n",
       "      <th id=\"T_9a384_level0_row3\" class=\"row_heading level0 row3\" >3</th>\n",
       "      <td id=\"T_9a384_row3_col0\" class=\"data row3 col0\" >('divine', 'redeemer')</td>\n",
       "      <td id=\"T_9a384_row3_col1\" class=\"data row3 col1\" >0.10%</td>\n",
       "    </tr>\n",
       "    <tr>\n",
       "      <th id=\"T_9a384_level0_row4\" class=\"row_heading level0 row4\" >4</th>\n",
       "      <td id=\"T_9a384_row4_col0\" class=\"data row4 col0\" >('mystical', 'body')</td>\n",
       "      <td id=\"T_9a384_row4_col1\" class=\"data row4 col1\" >0.09%</td>\n",
       "    </tr>\n",
       "  </tbody>\n",
       "</table>\n"
      ],
      "text/plain": [
       "<pandas.io.formats.style.Styler at 0x1fc3becad00>"
      ]
     },
     "metadata": {},
     "output_type": "display_data"
    },
    {
     "name": "stdout",
     "output_type": "stream",
     "text": [
      "\n",
      "Top 2-grams for pope Pius XI are:\n",
      "\n"
     ]
    },
    {
     "data": {
      "text/html": [
       "<style type=\"text/css\">\n",
       "</style>\n",
       "<table id=\"T_e9288_\">\n",
       "  <thead>\n",
       "    <tr>\n",
       "      <th class=\"blank level0\" >&nbsp;</th>\n",
       "      <th class=\"col_heading level0 col0\" >phrase</th>\n",
       "      <th class=\"col_heading level0 col1\" >freq</th>\n",
       "    </tr>\n",
       "  </thead>\n",
       "  <tbody>\n",
       "    <tr>\n",
       "      <th id=\"T_e9288_level0_row0\" class=\"row_heading level0 row0\" >0</th>\n",
       "      <td id=\"T_e9288_row0_col0\" class=\"data row0 col0\" >('can', 'not')</td>\n",
       "      <td id=\"T_e9288_row0_col1\" class=\"data row0 col1\" >0.19%</td>\n",
       "    </tr>\n",
       "    <tr>\n",
       "      <th id=\"T_e9288_level0_row1\" class=\"row_heading level0 row1\" >1</th>\n",
       "      <td id=\"T_e9288_row1_col0\" class=\"data row1 col0\" >('catholic', 'action')</td>\n",
       "      <td id=\"T_e9288_row1_col1\" class=\"data row1 col1\" >0.14%</td>\n",
       "    </tr>\n",
       "    <tr>\n",
       "      <th id=\"T_e9288_level0_row2\" class=\"row_heading level0 row2\" >2</th>\n",
       "      <td id=\"T_e9288_row2_col0\" class=\"data row2 col0\" >('jesus', 'christ')</td>\n",
       "      <td id=\"T_e9288_row2_col1\" class=\"data row2 col1\" >0.13%</td>\n",
       "    </tr>\n",
       "    <tr>\n",
       "      <th id=\"T_e9288_level0_row3\" class=\"row_heading level0 row3\" >3</th>\n",
       "      <td id=\"T_e9288_row3_col0\" class=\"data row3 col0\" >('human', 'society')</td>\n",
       "      <td id=\"T_e9288_row3_col1\" class=\"data row3 col1\" >0.07%</td>\n",
       "    </tr>\n",
       "    <tr>\n",
       "      <th id=\"T_e9288_level0_row4\" class=\"row_heading level0 row4\" >4</th>\n",
       "      <td id=\"T_e9288_row4_col0\" class=\"data row4 col0\" >('st', 'francis')</td>\n",
       "      <td id=\"T_e9288_row4_col1\" class=\"data row4 col1\" >0.06%</td>\n",
       "    </tr>\n",
       "  </tbody>\n",
       "</table>\n"
      ],
      "text/plain": [
       "<pandas.io.formats.style.Styler at 0x1fc3beca310>"
      ]
     },
     "metadata": {},
     "output_type": "display_data"
    },
    {
     "name": "stdout",
     "output_type": "stream",
     "text": [
      "\n",
      "Top 2-grams for pope Benedict XV are:\n",
      "\n"
     ]
    },
    {
     "data": {
      "text/html": [
       "<style type=\"text/css\">\n",
       "</style>\n",
       "<table id=\"T_271aa_\">\n",
       "  <thead>\n",
       "    <tr>\n",
       "      <th class=\"blank level0\" >&nbsp;</th>\n",
       "      <th class=\"col_heading level0 col0\" >phrase</th>\n",
       "      <th class=\"col_heading level0 col1\" >freq</th>\n",
       "    </tr>\n",
       "  </thead>\n",
       "  <tbody>\n",
       "    <tr>\n",
       "      <th id=\"T_271aa_level0_row0\" class=\"row_heading level0 row0\" >0</th>\n",
       "      <td id=\"T_271aa_row0_col0\" class=\"data row0 col0\" >('jesus', 'christ')</td>\n",
       "      <td id=\"T_271aa_row0_col1\" class=\"data row0 col1\" >0.18%</td>\n",
       "    </tr>\n",
       "    <tr>\n",
       "      <th id=\"T_271aa_level0_row1\" class=\"row_heading level0 row1\" >1</th>\n",
       "      <td id=\"T_271aa_row1_col0\" class=\"data row1 col0\" >('apostolic', 'see')</td>\n",
       "      <td id=\"T_271aa_row1_col1\" class=\"data row1 col1\" >0.14%</td>\n",
       "    </tr>\n",
       "    <tr>\n",
       "      <th id=\"T_271aa_level0_row2\" class=\"row_heading level0 row2\" >2</th>\n",
       "      <td id=\"T_271aa_row2_col0\" class=\"data row2 col0\" >('can', 'not')</td>\n",
       "      <td id=\"T_271aa_row2_col1\" class=\"data row2 col1\" >0.13%</td>\n",
       "    </tr>\n",
       "    <tr>\n",
       "      <th id=\"T_271aa_level0_row3\" class=\"row_heading level0 row3\" >3</th>\n",
       "      <td id=\"T_271aa_row3_col0\" class=\"data row3 col0\" >('benedict', 'xv')</td>\n",
       "      <td id=\"T_271aa_row3_col1\" class=\"data row3 col1\" >0.11%</td>\n",
       "    </tr>\n",
       "    <tr>\n",
       "      <th id=\"T_271aa_level0_row4\" class=\"row_heading level0 row4\" >4</th>\n",
       "      <td id=\"T_271aa_row4_col0\" class=\"data row4 col0\" >('holy', 'scripture')</td>\n",
       "      <td id=\"T_271aa_row4_col1\" class=\"data row4 col1\" >0.09%</td>\n",
       "    </tr>\n",
       "  </tbody>\n",
       "</table>\n"
      ],
      "text/plain": [
       "<pandas.io.formats.style.Styler at 0x1fc3a0d8bb0>"
      ]
     },
     "metadata": {},
     "output_type": "display_data"
    },
    {
     "name": "stdout",
     "output_type": "stream",
     "text": [
      "\n",
      "Top 2-grams for pope Pius X are:\n",
      "\n"
     ]
    },
    {
     "data": {
      "text/html": [
       "<style type=\"text/css\">\n",
       "</style>\n",
       "<table id=\"T_82fe6_\">\n",
       "  <thead>\n",
       "    <tr>\n",
       "      <th class=\"blank level0\" >&nbsp;</th>\n",
       "      <th class=\"col_heading level0 col0\" >phrase</th>\n",
       "      <th class=\"col_heading level0 col1\" >freq</th>\n",
       "    </tr>\n",
       "  </thead>\n",
       "  <tbody>\n",
       "    <tr>\n",
       "      <th id=\"T_82fe6_level0_row0\" class=\"row_heading level0 row0\" >0</th>\n",
       "      <td id=\"T_82fe6_row0_col0\" class=\"data row0 col0\" >('jesus', 'christ')</td>\n",
       "      <td id=\"T_82fe6_row0_col1\" class=\"data row0 col1\" >0.13%</td>\n",
       "    </tr>\n",
       "    <tr>\n",
       "      <th id=\"T_82fe6_level0_row1\" class=\"row_heading level0 row1\" >1</th>\n",
       "      <td id=\"T_82fe6_row1_col0\" class=\"data row1 col0\" >('can', 'not')</td>\n",
       "      <td id=\"T_82fe6_row1_col1\" class=\"data row1 col1\" >0.12%</td>\n",
       "    </tr>\n",
       "    <tr>\n",
       "      <th id=\"T_82fe6_level0_row2\" class=\"row_heading level0 row2\" >2</th>\n",
       "      <td id=\"T_82fe6_row2_col0\" class=\"data row2 col0\" >('apostolic', 'see')</td>\n",
       "      <td id=\"T_82fe6_row2_col1\" class=\"data row2 col1\" >0.11%</td>\n",
       "    </tr>\n",
       "    <tr>\n",
       "      <th id=\"T_82fe6_level0_row3\" class=\"row_heading level0 row3\" >3</th>\n",
       "      <td id=\"T_82fe6_row3_col0\" class=\"data row3 col0\" >('religious', 'sentiment')</td>\n",
       "      <td id=\"T_82fe6_row3_col1\" class=\"data row3 col1\" >0.05%</td>\n",
       "    </tr>\n",
       "    <tr>\n",
       "      <th id=\"T_82fe6_level0_row4\" class=\"row_heading level0 row4\" >4</th>\n",
       "      <td id=\"T_82fe6_row4_col0\" class=\"data row4 col0\" >('catholic', 'action')</td>\n",
       "      <td id=\"T_82fe6_row4_col1\" class=\"data row4 col1\" >0.05%</td>\n",
       "    </tr>\n",
       "  </tbody>\n",
       "</table>\n"
      ],
      "text/plain": [
       "<pandas.io.formats.style.Styler at 0x1fc3beca9d0>"
      ]
     },
     "metadata": {},
     "output_type": "display_data"
    },
    {
     "name": "stdout",
     "output_type": "stream",
     "text": [
      "\n",
      "Top 2-grams for pope Leo XIII are:\n",
      "\n"
     ]
    },
    {
     "data": {
      "text/html": [
       "<style type=\"text/css\">\n",
       "</style>\n",
       "<table id=\"T_10dba_\">\n",
       "  <thead>\n",
       "    <tr>\n",
       "      <th class=\"blank level0\" >&nbsp;</th>\n",
       "      <th class=\"col_heading level0 col0\" >phrase</th>\n",
       "      <th class=\"col_heading level0 col1\" >freq</th>\n",
       "    </tr>\n",
       "  </thead>\n",
       "  <tbody>\n",
       "    <tr>\n",
       "      <th id=\"T_10dba_level0_row0\" class=\"row_heading level0 row0\" >0</th>\n",
       "      <td id=\"T_10dba_row0_col0\" class=\"data row0 col0\" >('jesus', 'christ')</td>\n",
       "      <td id=\"T_10dba_row0_col1\" class=\"data row0 col1\" >0.16%</td>\n",
       "    </tr>\n",
       "    <tr>\n",
       "      <th id=\"T_10dba_level0_row1\" class=\"row_heading level0 row1\" >1</th>\n",
       "      <td id=\"T_10dba_row1_col0\" class=\"data row1 col0\" >('can', 'not')</td>\n",
       "      <td id=\"T_10dba_row1_col1\" class=\"data row1 col1\" >0.14%</td>\n",
       "    </tr>\n",
       "    <tr>\n",
       "      <th id=\"T_10dba_level0_row2\" class=\"row_heading level0 row2\" >2</th>\n",
       "      <td id=\"T_10dba_row2_col0\" class=\"data row2 col0\" >('leo', 'xiii')</td>\n",
       "      <td id=\"T_10dba_row2_col1\" class=\"data row2 col1\" >0.10%</td>\n",
       "    </tr>\n",
       "    <tr>\n",
       "      <th id=\"T_10dba_level0_row3\" class=\"row_heading level0 row3\" >3</th>\n",
       "      <td id=\"T_10dba_row3_col0\" class=\"data row3 col0\" >('apostolic', 'see')</td>\n",
       "      <td id=\"T_10dba_row3_col1\" class=\"data row3 col1\" >0.09%</td>\n",
       "    </tr>\n",
       "    <tr>\n",
       "      <th id=\"T_10dba_level0_row4\" class=\"row_heading level0 row4\" >4</th>\n",
       "      <td id=\"T_10dba_row4_col0\" class=\"data row4 col0\" >('catholic', 'faith')</td>\n",
       "      <td id=\"T_10dba_row4_col1\" class=\"data row4 col1\" >0.06%</td>\n",
       "    </tr>\n",
       "  </tbody>\n",
       "</table>\n"
      ],
      "text/plain": [
       "<pandas.io.formats.style.Styler at 0x1fc3becad30>"
      ]
     },
     "metadata": {},
     "output_type": "display_data"
    },
    {
     "name": "stdout",
     "output_type": "stream",
     "text": [
      "\n"
     ]
    }
   ],
   "source": [
    "for pope in popes:\n",
    "    print_top_k_n_grams(pope,N = 2)"
   ]
  }
 ],
 "metadata": {
  "kernelspec": {
   "display_name": "Python 3",
   "language": "python",
   "name": "python3"
  },
  "language_info": {
   "codemirror_mode": {
    "name": "ipython",
    "version": 3
   },
   "file_extension": ".py",
   "mimetype": "text/x-python",
   "name": "python",
   "nbconvert_exporter": "python",
   "pygments_lexer": "ipython3",
   "version": "3.9.5"
  }
 },
 "nbformat": 4,
 "nbformat_minor": 5
}
