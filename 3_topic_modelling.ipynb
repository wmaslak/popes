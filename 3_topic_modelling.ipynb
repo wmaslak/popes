{
 "cells": [
  {
   "cell_type": "code",
   "execution_count": 3,
   "id": "f6a5a2aa-3f7b-4533-8888-a29b4b589ce4",
   "metadata": {},
   "outputs": [
    {
     "name": "stderr",
     "output_type": "stream",
     "text": [
      "[nltk_data] Downloading package wordnet to\n",
      "[nltk_data]     C:\\Users\\wmasl\\AppData\\Roaming\\nltk_data...\n",
      "[nltk_data]   Package wordnet is already up-to-date!\n"
     ]
    }
   ],
   "source": [
    "from helper_funs import *\n",
    "\n",
    "import numpy as np\n",
    "from gensim import corpora\n",
    "from gensim import models\n",
    "from gensim.models.coherencemodel import CoherenceModel\n",
    "import pyLDAvis.gensim_models\n",
    "\n",
    "with open(\"pickles/add_stopwords\", \"rb\") as fp:   # Unpickling\n",
    "    add_stopwords = pickle.load(fp)\n",
    "\n",
    "with open(\"pickles/add_characters_to_clean\", \"rb\") as fp:   # Unpickling\n",
    "    add_characters_to_clean = pickle.load(fp)\n",
    "    \n",
    "with open(\"pickles/selected_popes_names\", \"rb\") as fp:   # Unpickling\n",
    "    popes = pickle.load(fp)"
   ]
  },
  {
   "cell_type": "markdown",
   "id": "5ac37605-25a7-462e-b210-414436d85e45",
   "metadata": {},
   "source": [
    "## Building blocks of the modelling process"
   ]
  },
  {
   "cell_type": "code",
   "execution_count": 4,
   "id": "bdfc01e6-49f4-4636-b6a8-e682f26595c9",
   "metadata": {},
   "outputs": [],
   "source": [
    "# prepare dataset\n",
    "df = get_df_of_enc(pope = 'all')\n",
    "# basic cleaning\n",
    "df['enc_text_clean'] = df['enc_text'].apply(lambda x:preprocess_text(x,True,True,False,\n",
    "                                           add_chars_to_clean = add_characters_to_clean , \n",
    "                                           add_stopwords = add_stopwords)\n",
    "                 )\n",
    "# another column also with tokenization and lemmatization\n",
    "df['enc_text_lem'] = df['enc_text_clean'].apply(lambda x:preprocess_text(text = x,tokenize = True, lemmatize = True))"
   ]
  },
  {
   "cell_type": "markdown",
   "id": "a581116e-455d-4ab4-a9b2-4d740b8eb9ff",
   "metadata": {},
   "source": [
    "### Retrieving bi and trigrams"
   ]
  },
  {
   "cell_type": "code",
   "execution_count": 13,
   "id": "53f00831-e439-40a5-bf9f-e1e3db391e9a",
   "metadata": {},
   "outputs": [],
   "source": [
    "# Compute bigrams.\n",
    "# Add bigrams and trigrams to docs (only those that appear 20 times or more).\n",
    "bigram = models.Phrases(df['enc_text_lem'], min_count=10, connector_words=models.phrases.ENGLISH_CONNECTOR_WORDS)\n",
    "for idx in range(len(df['enc_text_lem'])):\n",
    "    for token in bigram[df['enc_text_lem'][idx]]:\n",
    "        if '_' in token:\n",
    "            # Token is a bigram, add to document.\n",
    "            df['enc_text_lem'][idx].append(token)\n",
    "trigram = models.Phrases(bigram[df['enc_text_lem']], min_count=5,connector_words=models.phrases.ENGLISH_CONNECTOR_WORDS )\n",
    "for idx in range(len(df['enc_text_lem'])):\n",
    "    for token in trigram[bigram[df['enc_text_lem'][idx]]]:\n",
    "        if token.count('_') == 2:\n",
    "            # Token is a trigram, add to document.\n",
    "            df['enc_text_lem'][idx].append(token)"
   ]
  },
  {
   "cell_type": "markdown",
   "id": "d3c032e5-83f2-4c10-a351-e4f3ff5829bc",
   "metadata": {},
   "source": [
    "### Creating and saving corpus and dictionary objects"
   ]
  },
  {
   "cell_type": "code",
   "execution_count": 14,
   "id": "af5b8b3e-6569-4773-91aa-5edb7dcbfdc3",
   "metadata": {},
   "outputs": [],
   "source": [
    "# make dictionary and corpus \n",
    "dictionary = corpora.Dictionary(df['enc_text_lem'])\n",
    "dictionary.filter_extremes(no_below=20, no_above=0.7)\n",
    "corpus = [dictionary.doc2bow(text) for text in df['enc_text_lem']]\n",
    "# save created objects\n",
    "pickle.dump(corpus, open('pickles/corpus', 'wb'))\n",
    "dictionary.save('pickles/dictionary.gensim')"
   ]
  },
  {
   "cell_type": "markdown",
   "id": "d43059ac-9f58-4d3e-b7a5-d4e728476ce9",
   "metadata": {},
   "source": [
    "### Fitting LDA model with specified number of topics"
   ]
  },
  {
   "cell_type": "code",
   "execution_count": 15,
   "id": "c2eb8722-2a53-416a-a3d7-df56bed91f0c",
   "metadata": {},
   "outputs": [],
   "source": [
    "NUM_TOPICS = 8\n",
    "ldamodel = models.ldamodel.LdaModel(corpus, num_topics = NUM_TOPICS, id2word=dictionary, passes=15)\n",
    "ldamodel.save('models/model_lda_0.gensim')\n"
   ]
  },
  {
   "cell_type": "code",
   "execution_count": 16,
   "id": "67c97787-d7a9-4f07-ba10-629ce32619ff",
   "metadata": {},
   "outputs": [
    {
     "name": "stdout",
     "output_type": "stream",
     "text": [
      "(0, '0.007*\"social\" + 0.005*\"country\" + 0.005*\"principle\" + 0.004*\"pius\" + 0.004*\"labor\"')\n",
      "(1, '0.009*\"council\" + 0.008*\"son\" + 0.007*\"mystery\" + 0.007*\"holy_spirit\" + 0.006*\"jn\"')\n",
      "(2, '0.009*\"priest\" + 0.008*\"body\" + 0.005*\"apostle\" + 0.005*\"sacrifice\" + 0.004*\"jesus_christ\"')\n",
      "(3, '0.007*\"law\" + 0.005*\"civil\" + 0.005*\"action\" + 0.004*\"liberty\" + 0.004*\"marriage\"')\n",
      "(4, '0.035*\"missionary\" + 0.021*\"mission\" + 0.014*\"activity\" + 0.010*\"gospel\" + 0.009*\"community\"')\n",
      "(5, '0.011*\"mother\" + 0.009*\"mary\" + 0.008*\"virgin\" + 0.006*\"scripture\" + 0.005*\"bless\"')\n",
      "(6, '0.010*\"social\" + 0.009*\"development\" + 0.005*\"economic\" + 0.005*\"person\" + 0.005*\"country\"')\n",
      "(7, '0.012*\"unity\" + 0.009*\"brother\" + 0.006*\"council\" + 0.006*\"roman\" + 0.005*\"apostolic_see\"')\n"
     ]
    }
   ],
   "source": [
    "topics = ldamodel.print_topics(num_words=5)\n",
    "for topic in topics:\n",
    "    print(topic)"
   ]
  },
  {
   "cell_type": "markdown",
   "id": "889d964a-7253-4f72-bc82-98aad1835798",
   "metadata": {},
   "source": [
    "### Generating visualization of the fitted LDA model"
   ]
  },
  {
   "cell_type": "code",
   "execution_count": 17,
   "id": "ef12f1ec-1792-4011-ba71-4df29b6f7fff",
   "metadata": {},
   "outputs": [],
   "source": [
    "dictionary = corpora.Dictionary.load('pickles/dictionary.gensim')\n",
    "corpus = pickle.load(open('pickles/corpus', 'rb'))\n",
    "lda = models.ldamodel.LdaModel.load('models/model_lda_0.gensim')"
   ]
  },
  {
   "cell_type": "code",
   "execution_count": 18,
   "id": "bee21f29-a7b5-404f-acab-2cc7f0d5ccb2",
   "metadata": {},
   "outputs": [
    {
     "name": "stderr",
     "output_type": "stream",
     "text": [
      "c:\\users\\wmasl\\appdata\\local\\programs\\python\\python39\\lib\\site-packages\\pyLDAvis\\_prepare.py:246: FutureWarning: In a future version of pandas all arguments of DataFrame.drop except for the argument 'labels' will be keyword-only\n",
      "  default_term_info = default_term_info.sort_values(\n"
     ]
    }
   ],
   "source": [
    "\n",
    "lda_display = pyLDAvis.gensim_models.prepare(lda, corpus, dictionary, sort_topics=False)\n",
    "pyLDAvis.save_html(lda_display, 'ldavis/test2.html')"
   ]
  },
  {
   "cell_type": "markdown",
   "id": "ca1bf61b-0b8e-4b71-843e-d3d81a6d71ea",
   "metadata": {},
   "source": [
    "## The main modelling function (everything above packed in one function)"
   ]
  },
  {
   "cell_type": "code",
   "execution_count": 2,
   "id": "2e4c406b-eb80-4c18-9766-74d9259b84ac",
   "metadata": {},
   "outputs": [],
   "source": [
    "# function that does all the above at one call \n",
    "def train_lda(df,\n",
    "              preprocess=True,\n",
    "              render_html=False,\n",
    "              save_model=True,\n",
    "              return_corp_and_dict=False,\n",
    "              model_name=dt.strftime(dt.now(), '%d_%m_%H_%M_%S'),\n",
    "              kwargs_for_preprocess={    'cleanup' : True,\n",
    "                                         'stopwords'  : True,\n",
    "                                         'tokenize'  : True,\n",
    "                                         'lemmatize'  : True,\n",
    "                                         'add_stopwords'  : add_stopwords,\n",
    "                                         'add_chars_to_clean'  : add_characters_to_clean,\n",
    "                                    },\n",
    "              kwargs_for_lda={  'k':5,\n",
    "                                'passes':15\n",
    "                             },\n",
    "              add_kwargs={         'min_bigram' : 10,\n",
    "                                   'min_trigram' : 5,\n",
    "                                   'no_below' : 5,\n",
    "                                   'no_above' : 0.7\n",
    "                                }\n",
    "             ):\n",
    "    # in case of providing a subset of df\n",
    "    df = df.reset_index()\n",
    "    if preprocess:\n",
    "        # preprocess\n",
    "        df['enc_text_lem'] = df['enc_text'].apply(lambda x:preprocess_text( text = x,\n",
    "                                                                            cleanup            = kwargs_for_preprocess['cleanup'],\n",
    "                                                                            stopwords          = kwargs_for_preprocess['stopwords'],\n",
    "                                                                            tokenize           = kwargs_for_preprocess['tokenize'],\n",
    "                                                                            lemmatize          = kwargs_for_preprocess['lemmatize'],\n",
    "                                                                            add_stopwords      = kwargs_for_preprocess['add_stopwords'],\n",
    "                                                                            add_chars_to_clean = kwargs_for_preprocess['add_chars_to_clean'],))\n",
    "\n",
    "\n",
    "    # Add bigrams and trigrams to docs (only those that appear given number of times or more).\n",
    "    bigram = models.Phrases(df['enc_text_lem'], min_count=add_kwargs['min_bigram'], connector_words=models.phrases.ENGLISH_CONNECTOR_WORDS)\n",
    "    for idx in range(len(df['enc_text_lem'])):\n",
    "        for token in bigram[df['enc_text_lem'][idx]]:\n",
    "            if '_' in token:\n",
    "                # Token is a bigram, add to document.\n",
    "                df['enc_text_lem'][idx].append(token)\n",
    "    trigram = models.Phrases(bigram[df['enc_text_lem']], min_count=add_kwargs['min_trigram'],connector_words=models.phrases.ENGLISH_CONNECTOR_WORDS )\n",
    "    for idx in range(len(df['enc_text_lem'])):\n",
    "        for token in trigram[bigram[df['enc_text_lem'][idx]]]:\n",
    "            if token.count('_') == 2:\n",
    "                # Token is a trigram, add to document.\n",
    "                df['enc_text_lem'][idx].append(token)\n",
    "                \n",
    "                \n",
    "    # make dictionary and corpus \n",
    "    dictionary = corpora.Dictionary(df['enc_text_lem'])\n",
    "    dictionary.filter_extremes(no_below=add_kwargs['no_below'], no_above=add_kwargs['no_above'])\n",
    "    corpus = [dictionary.doc2bow(text) for text in df['enc_text_lem']]\n",
    "   \n",
    "    \n",
    "    # fit and save model\n",
    "    ldamodel = models.ldamodel.LdaModel(corpus, num_topics = kwargs_for_lda['k'], id2word=dictionary, passes=kwargs_for_lda['passes'])\n",
    "\n",
    "    if save_model:\n",
    "        print(f\"Saving model as {'model_'+model_name+'.gensim'}\")\n",
    "        # save created objects\n",
    "        pickle.dump(corpus, open('pickles/corpus_'+model_name, 'wb'))\n",
    "        dictionary.save('pickles/dictionary_'+model_name+'.gensim')\n",
    "        ldamodel.save('models/model_'+model_name+'.gensim')\n",
    "    \n",
    "    # render html\n",
    "    if render_html:\n",
    "        lda_display = pyLDAvis.gensim_models.prepare(ldamodel, corpus, dictionary, sort_topics=False)\n",
    "        pyLDAvis.save_html(lda_display, 'ldavis/topics_for_model_'+model_name+'.html')\n",
    "    if return_corp_and_dict:\n",
    "        return(ldamodel,corpus,dictionary)\n",
    "    else:\n",
    "        return(ldamodel)\n"
   ]
  },
  {
   "cell_type": "markdown",
   "id": "ca64d1a8-d758-4bb6-95c9-fb0887defdbd",
   "metadata": {},
   "source": [
    "### Function to compute coherence score"
   ]
  },
  {
   "cell_type": "code",
   "execution_count": 15,
   "id": "2b36b056-eb07-42d6-a0e7-e16a79fa402f",
   "metadata": {},
   "outputs": [],
   "source": [
    "# function to compute coherence\n",
    "\n",
    "\n",
    "def compute_coherence_values(obj, # df, model, or string containing model name\n",
    "                             k=5 ,no_below=0, no_above=1,coh_measure ='u_mass',corp = None, dictio = None): \n",
    "    \n",
    "    if isinstance(obj,pd.DataFrame):\n",
    "        dictionary = corpora.Dictionary(data)\n",
    "        dictionary.filter_extremes(no_below=no_below, no_above=no_above)\n",
    "        corpus = [dictionary.doc2bow(text) for text in data]\n",
    "        print('Fitting LDA...')\n",
    "        lda_model = models.ldamodel.LdaModel(corpus, num_topics=k, id2word=dictionary, passes=15)\n",
    "        coherence_model_lda = CoherenceModel(model=lda_model,corpus = corpus, dictionary=dictionary, coherence=coh_measure)\n",
    "        \n",
    "    elif isinstance(obj,models.ldamodel.LdaModel):\n",
    "        dictionary = dictio\n",
    "        corpus = corp\n",
    "        print('Calculating coherence...')\n",
    "        lda_model = obj\n",
    "        coherence_model_lda = CoherenceModel(model=lda_model,corpus = corpus, dictionary=dictionary, coherence=coh_measure)\n",
    "        \n",
    "    elif isinstance(obj,str):\n",
    "        model_name = obj\n",
    "        print(f\"Loading model from {'models/model_'+model_name+'.gensim'} ...\")\n",
    "        dictionary = corpora.Dictionary.load('pickles/dictionary_'+model_name+'.gensim')\n",
    "        corpus = pickle.load(open('pickles/corpus_'+model_name, 'rb'))\n",
    "        lda_model = models.ldamodel.LdaModel.load('models/model_'+model_name+'.gensim')\n",
    "        print('Calculating coherence...')\n",
    "        coherence_model_lda = CoherenceModel(model=lda_model,corpus = corpus, dictionary=dictionary, coherence=coh_measure)\n",
    "        \n",
    "    return coherence_model_lda.get_coherence()\n"
   ]
  },
  {
   "cell_type": "markdown",
   "id": "8d666ef5-3e05-41aa-8d0f-15e15892ad6f",
   "metadata": {},
   "source": [
    "### Function to plot correlation heatmap between topics "
   ]
  },
  {
   "cell_type": "code",
   "execution_count": 23,
   "id": "35a7255e-27ef-45c1-9922-3135cbcd637c",
   "metadata": {},
   "outputs": [],
   "source": [
    "def plot_difference(lda_fst,distance='jaccard',num_words=20 ,title=\"Topic difference\"):\n",
    "    \"\"\"Helper function to plot difference between models.\n",
    "\n",
    "    Uses matplotlib as the backend.\"\"\"\n",
    "    import matplotlib.pyplot as plt\n",
    "    mdiff, annotation = lda_fst.diff(lda_fst, distance='jaccard', num_words=50)\n",
    "    \n",
    "    fig, ax = plt.subplots(figsize=(18, 14))\n",
    "    data = ax.imshow(mdiff, cmap='RdBu_r', origin='lower')\n",
    "    plt.title(title)\n",
    "    plt.colorbar(data)\n",
    "    return(mdiff,annotation)"
   ]
  },
  {
   "cell_type": "markdown",
   "id": "7d5c324b-cb64-4810-bbce-0e83a1ec801b",
   "metadata": {},
   "source": [
    "### Function that calculates **distance to ideal** evaluation metric"
   ]
  },
  {
   "cell_type": "code",
   "execution_count": 13,
   "id": "e0a7e581-09ba-4d7e-9a61-f608ba356c36",
   "metadata": {},
   "outputs": [],
   "source": [
    "def how_far_from_ideal(obj,distance_lst = ['kullback_leibler', 'hellinger', 'jaccard', 'jensen_shannon'],normalize = True):\n",
    "    \n",
    "    dist_to_ideal = {}\n",
    "    if isinstance(obj,models.ldamodel.LdaModel):\n",
    "        \n",
    "        for d in distance_lst:\n",
    "            \n",
    "            lda = obj\n",
    "            mdiff,ann = lda.diff(lda)\n",
    "            n_topics = mdiff.shape[0]\n",
    "            ideal_matrix = np.ones([n_topics,n_topics])\n",
    "            np.fill_diagonal(ideal_matrix, 0.)\n",
    "            dist_to_ideal[d] = np.linalg.norm(mdiff - ideal_matrix)\n",
    "            if normalize:\n",
    "                dist_to_ideal[d] = dist_to_ideal[d] / n_topics\n",
    "            avg_dist = np.array(list(dist_to_ideal.values())).mean()\n",
    "        return(dist_to_ideal,avg_dist)\n",
    "    else:\n",
    "        return(f'Provided object of type {type(obj)}, instead of LdaModel')\n",
    "            \n"
   ]
  },
  {
   "cell_type": "markdown",
   "id": "88fcfc77-1f66-4797-b80f-d4adf4181fad",
   "metadata": {},
   "source": [
    "## Performing gridsearches for tunung parameters"
   ]
  },
  {
   "cell_type": "code",
   "execution_count": 9,
   "id": "7eb4dd0d-fda2-4528-b227-0d9efaecd1da",
   "metadata": {},
   "outputs": [
    {
     "name": "stdout",
     "output_type": "stream",
     "text": [
      "Grid length: 9\n"
     ]
    }
   ],
   "source": [
    "# grid search\n",
    "no_belows = [20]\n",
    "no_aboves = [0.7]\n",
    "min_bigrams = [5,20,30]\n",
    "min_trigrams = [3,10,20]\n",
    "ks = [10]\n",
    "grid_grams = [[b,a,k,bi,tri] for b in no_belows for a in no_aboves for k in ks for bi in min_bigrams for tri in min_trigrams]\n",
    "print(f'Grid length: {len(grid_grams)}')\n",
    "def lda_gs(grid,df):\n",
    "    import time\n",
    "    data_dict = {}\n",
    "    elapsed_times=[]\n",
    "    data_dict['K'] = []\n",
    "    data_dict['no_below'] = []\n",
    "    data_dict['no_above'] = []\n",
    "    data_dict['min_bigram']  = []\n",
    "    data_dict['min_trigram'] = []\n",
    "    data_dict['coherence_score'] = []\n",
    "    data_dict['dist_to_ideal'] = []\n",
    "    \n",
    "    for i,params in enumerate(grid):\n",
    "        no_below, no_above, k, bi, tri = params\n",
    "        print(f\"Processing for params no_below = {no_below}, no_above = {no_above}, k = {k}, min_bigram = {bi}, min_trigram = {tri} ({i+1}/{len(grid)})...\")\n",
    "      \n",
    "\n",
    "        start = time.time()\n",
    "\n",
    "\n",
    "        data_dict['no_below'].append(no_below)\n",
    "        data_dict['no_above'].append(no_above)\n",
    "        data_dict['min_bigram'].append(bi)\n",
    "        data_dict['min_trigram'].append(tri)\n",
    "        data_dict['K'].append(k)\n",
    "        # train LDA\n",
    "        print('Fitting...')\n",
    "        model,corpus,dictionary = train_lda(df['enc_text_lem'],\n",
    "                                              preprocess=False,\n",
    "                                              render_html=False,\n",
    "                                              save_model=False,\n",
    "                                              return_corp_and_dict=True,\n",
    "                                              kwargs_for_lda={  'k':k,\n",
    "                                                                'passes':15\n",
    "                                                             },\n",
    "                                              add_kwargs={         'min_bigram' : bi,\n",
    "                                                                   'min_trigram' : tri,\n",
    "                                                                   'no_below' : no_below,\n",
    "                                                                   'no_above' : no_above\n",
    "                                                                }\n",
    "                                                 )\n",
    "        print('Evaluating...')\n",
    "        cs = compute_coherence_values(model,k = k ,corp = corpus, dictio=dictionary)\n",
    "        data_dict['coherence_score'].append(cs)\n",
    "        _,a_dist = how_far_from_ideal(model)\n",
    "        data_dict['dist_to_ideal'].append(a_dist)\n",
    "        print(f\"...coherence score: {cs} ; avg. distance to ideal: {a_dist}\")\n",
    "        end = time.time()\n",
    "        elapsed_times.append(end - start)\n",
    "        avg_time=np.mean(elapsed_times)\n",
    "        estimated_time = (len(grid) - i-1)*avg_time\n",
    "        print(f'...estimated time till end: {estimated_time/60} minutes ...')\n",
    "    df_res = pd.DataFrame(data_dict)\n",
    "    return(df_res)\n",
    " "
   ]
  },
  {
   "cell_type": "markdown",
   "id": "a5d38933-4c32-4c9a-9d83-d213690ee113",
   "metadata": {},
   "source": [
    "#### Tuning min_bigram and min_trigram"
   ]
  },
  {
   "cell_type": "code",
   "execution_count": 3,
   "id": "949c5d77-c2e2-44df-a351-9f8cf8e32c06",
   "metadata": {},
   "outputs": [],
   "source": [
    "df = get_df_of_enc(pope = 'all')\n",
    "df['enc_text_lem'] = df['enc_text'].apply(lambda x:preprocess_text(x,True,True,True,True,\n",
    "                                           add_chars_to_clean = add_characters_to_clean , \n",
    "                                           add_stopwords = add_stopwords))"
   ]
  },
  {
   "cell_type": "code",
   "execution_count": null,
   "id": "ad2b1772-551d-4ed3-a0c6-d8cbf41bfba5",
   "metadata": {},
   "outputs": [],
   "source": [
    "#df_grams = lda_gs(grid_grams,df)  "
   ]
  },
  {
   "cell_type": "code",
   "execution_count": 32,
   "id": "d50ad199-4a7f-4d55-b2f6-12af9f1f5cfd",
   "metadata": {},
   "outputs": [],
   "source": [
    "df_grams.to_csv('csv/df_grams.csv')"
   ]
  },
  {
   "cell_type": "code",
   "execution_count": 25,
   "id": "8d98a5cf-414f-4c1b-8be9-56bc9be258eb",
   "metadata": {},
   "outputs": [
    {
     "data": {
      "text/plain": [
       "<AxesSubplot:xlabel='min_bigram'>"
      ]
     },
     "execution_count": 25,
     "metadata": {},
     "output_type": "execute_result"
    },
    {
     "data": {
      "image/png": "[encoded data removed]",
      "text/plain": [
       "<Figure size 432x288 with 1 Axes>"
      ]
     },
     "metadata": {
      "needs_background": "light"
     },
     "output_type": "display_data"
    }
   ],
   "source": [
    "df_grams.sort_values('dist_to_ideal', ascending = False).plot(x='min_bigram',y='coherence_score', kind = 'bar')"
   ]
  },
  {
   "cell_type": "markdown",
   "id": "237a66a5-ce3b-4c33-8fee-72318c749f3f",
   "metadata": {},
   "source": [
    "Better both coherence and distance to ideal when we are less restrictive with bigrams and trigrams"
   ]
  },
  {
   "cell_type": "markdown",
   "id": "78f61ecf-ac89-4576-b8b3-5331b4f99f9a",
   "metadata": {},
   "source": [
    "#### Tuning no_below and no_above"
   ]
  },
  {
   "cell_type": "code",
   "execution_count": 7,
   "id": "32134599-a616-4371-b239-a6959792b3b2",
   "metadata": {},
   "outputs": [
    {
     "data": {
      "text/plain": [
       "3"
      ]
     },
     "execution_count": 7,
     "metadata": {},
     "output_type": "execute_result"
    }
   ],
   "source": [
    "# grid search\n",
    "no_belows = [10,20,40]\n",
    "no_aboves = [0.7]\n",
    "min_bigrams = [20]\n",
    "min_trigrams = [15]\n",
    "ks = [10]\n",
    "grid_extremes = [[b,a,k,bi,tri] for b in no_belows for a in no_aboves for k in ks for bi in min_bigrams for tri in min_trigrams]\n",
    "len(grid_extremes)"
   ]
  },
  {
   "cell_type": "code",
   "execution_count": 10,
   "id": "30f92c67-82ee-4a12-af90-b75c5e5adf29",
   "metadata": {},
   "outputs": [
    {
     "name": "stdout",
     "output_type": "stream",
     "text": [
      "Processing for params no_below = 10, no_above = 0.7, k = 10, min_bigram = 20, min_trigram = 15 (1/3)...\n",
      "Fitting...\n",
      "Evaluating...\n",
      "Calculating coherence...\n",
      "...coherence score: -0.540549297086317 ; avg. distance to ideal: 0.4088763745561431\n",
      "...estimated time till end: 1.6780441602071126 minutes ...\n",
      "Processing for params no_below = 20, no_above = 0.7, k = 10, min_bigram = 20, min_trigram = 15 (2/3)...\n",
      "Fitting...\n",
      "Evaluating...\n",
      "Calculating coherence...\n",
      "...coherence score: -0.5923089049996124 ; avg. distance to ideal: 0.3950420837532934\n",
      "...estimated time till end: 0.8174088517824809 minutes ...\n",
      "Processing for params no_below = 40, no_above = 0.7, k = 10, min_bigram = 20, min_trigram = 15 (3/3)...\n",
      "Fitting...\n",
      "Evaluating...\n",
      "Calculating coherence...\n",
      "...coherence score: -0.6209863000497762 ; avg. distance to ideal: 0.43615355105367104\n",
      "...estimated time till end: 0.0 minutes ...\n"
     ]
    }
   ],
   "source": [
    "df_extremes = lda_gs(grid_extremes,df)  "
   ]
  },
  {
   "cell_type": "code",
   "execution_count": 11,
   "id": "59fdba33-6779-4f5b-9a10-dac1638d8ce5",
   "metadata": {},
   "outputs": [],
   "source": [
    "df_extremes.to_csv('csv/df_extremes_below.csv')"
   ]
  },
  {
   "cell_type": "markdown",
   "id": "db1994a3-01d7-4cb2-b67c-03cd7ef1154b",
   "metadata": {},
   "source": [
    "### Tuninng number of topics"
   ]
  },
  {
   "cell_type": "code",
   "execution_count": 12,
   "id": "b11d9c67-97db-4cd4-9abf-fea8700a62ba",
   "metadata": {},
   "outputs": [
    {
     "name": "stdout",
     "output_type": "stream",
     "text": [
      "Processing for params no_below = 20, no_above = 0.7, k = 8, min_bigram = 20, min_trigram = 10 (1/3)...\n",
      "Fitting...\n",
      "Evaluating...\n",
      "Calculating coherence...\n",
      "...coherence score: -0.9338019028649018 ; avg. distance to ideal: 0.4264185810975575\n",
      "...estimated time till end: 1.5412134250005087 minutes ...\n",
      "Processing for params no_below = 20, no_above = 0.7, k = 10, min_bigram = 20, min_trigram = 10 (2/3)...\n",
      "Fitting...\n",
      "Evaluating...\n",
      "Calculating coherence...\n",
      "...coherence score: -1.0313382541681873 ; avg. distance to ideal: 0.45986824499428114\n",
      "...estimated time till end: 0.8661614934603373 minutes ...\n",
      "Processing for params no_below = 20, no_above = 0.7, k = 15, min_bigram = 20, min_trigram = 10 (3/3)...\n",
      "Fitting...\n",
      "Evaluating...\n",
      "Calculating coherence...\n",
      "...coherence score: -1.1005325595987339 ; avg. distance to ideal: 0.4815155125113625\n",
      "...estimated time till end: 0.0 minutes ...\n"
     ]
    }
   ],
   "source": [
    "# grid search\n",
    "no_belows = [20]\n",
    "no_aboves = [0.7]\n",
    "min_bigrams = [20]\n",
    "min_trigrams = [10]\n",
    "ks = [8,10,15]\n",
    "grid_topics = [[b,a,k,bi,tri] for b in no_belows for a in no_aboves for k in ks for bi in min_bigrams for tri in min_trigrams]\n",
    "len(grid_topics)\n",
    "\n",
    "df_topics = lda_gs(grid_topics,df) "
   ]
  },
  {
   "cell_type": "code",
   "execution_count": 13,
   "id": "524807f3-53a8-4b6a-8df6-53fb4a6af122",
   "metadata": {},
   "outputs": [
    {
     "data": {
      "text/html": [
       "<div>\n",
       "<style scoped>\n",
       "    .dataframe tbody tr th:only-of-type {\n",
       "        vertical-align: middle;\n",
       "    }\n",
       "\n",
       "    .dataframe tbody tr th {\n",
       "        vertical-align: top;\n",
       "    }\n",
       "\n",
       "    .dataframe thead th {\n",
       "        text-align: right;\n",
       "    }\n",
       "</style>\n",
       "<table border=\"1\" class=\"dataframe\">\n",
       "  <thead>\n",
       "    <tr style=\"text-align: right;\">\n",
       "      <th></th>\n",
       "      <th>K</th>\n",
       "      <th>no_below</th>\n",
       "      <th>no_above</th>\n",
       "      <th>min_bigram</th>\n",
       "      <th>min_trigram</th>\n",
       "      <th>coherence_score</th>\n",
       "      <th>dist_to_ideal</th>\n",
       "    </tr>\n",
       "  </thead>\n",
       "  <tbody>\n",
       "    <tr>\n",
       "      <th>0</th>\n",
       "      <td>8</td>\n",
       "      <td>20</td>\n",
       "      <td>0.7</td>\n",
       "      <td>20</td>\n",
       "      <td>10</td>\n",
       "      <td>-0.933802</td>\n",
       "      <td>0.426419</td>\n",
       "    </tr>\n",
       "    <tr>\n",
       "      <th>1</th>\n",
       "      <td>10</td>\n",
       "      <td>20</td>\n",
       "      <td>0.7</td>\n",
       "      <td>20</td>\n",
       "      <td>10</td>\n",
       "      <td>-1.031338</td>\n",
       "      <td>0.459868</td>\n",
       "    </tr>\n",
       "    <tr>\n",
       "      <th>2</th>\n",
       "      <td>15</td>\n",
       "      <td>20</td>\n",
       "      <td>0.7</td>\n",
       "      <td>20</td>\n",
       "      <td>10</td>\n",
       "      <td>-1.100533</td>\n",
       "      <td>0.481516</td>\n",
       "    </tr>\n",
       "  </tbody>\n",
       "</table>\n",
       "</div>"
      ],
      "text/plain": [
       "    K  no_below  no_above  min_bigram  min_trigram  coherence_score  \\\n",
       "0   8        20       0.7          20           10        -0.933802   \n",
       "1  10        20       0.7          20           10        -1.031338   \n",
       "2  15        20       0.7          20           10        -1.100533   \n",
       "\n",
       "   dist_to_ideal  \n",
       "0       0.426419  \n",
       "1       0.459868  \n",
       "2       0.481516  "
      ]
     },
     "execution_count": 13,
     "metadata": {},
     "output_type": "execute_result"
    }
   ],
   "source": [
    "df_topics.to_csv('csv/df_topics.csv')\n",
    "df_topics"
   ]
  },
  {
   "cell_type": "markdown",
   "id": "fe009d6f-abfc-4069-ad49-0d8c3c2bb9db",
   "metadata": {},
   "source": [
    "# Fitting final LDA on corpus of encyclicals of all popes"
   ]
  },
  {
   "cell_type": "code",
   "execution_count": 38,
   "id": "243b754f-37d3-43ea-ba07-48261a12b659",
   "metadata": {},
   "outputs": [
    {
     "name": "stdout",
     "output_type": "stream",
     "text": [
      "Saving model as model_ALL_POPES.gensim\n"
     ]
    },
    {
     "name": "stderr",
     "output_type": "stream",
     "text": [
      "c:\\users\\wmasl\\appdata\\local\\programs\\python\\python39\\lib\\site-packages\\pyLDAvis\\_prepare.py:246: FutureWarning: In a future version of pandas all arguments of DataFrame.drop except for the argument 'labels' will be keyword-only\n",
      "  default_term_info = default_term_info.sort_values(\n"
     ]
    }
   ],
   "source": [
    "# final model for all popes\n",
    "model,corpus,dictionary = train_lda(df['enc_text_lem'],\n",
    "              preprocess=False,\n",
    "              render_html=True,\n",
    "              save_model=True,\n",
    "              return_corp_and_dict=True,\n",
    "              model_name=\"ALL_POPES\",\n",
    "              kwargs_for_preprocess={    'cleanup' : True,\n",
    "                                         'stopwords'  : True,\n",
    "                                         'tokenize'  : True,\n",
    "                                         'lemmatize'  : True,\n",
    "                                         'add_stopwords'  : add_stopwords,\n",
    "                                         'add_chars_to_clean'  : add_characters_to_clean,\n",
    "                                    },\n",
    "              kwargs_for_lda={  'k':8,\n",
    "                                'passes':15\n",
    "                             },\n",
    "              add_kwargs={         'min_bigram' : 5,\n",
    "                                   'min_trigram' : 3,\n",
    "                                   'no_below' : 20,\n",
    "                                   'no_above' : 0.7\n",
    "                                }\n",
    "             )"
   ]
  },
  {
   "cell_type": "markdown",
   "id": "ba263362-500a-44bb-bf33-ee7e53735f69",
   "metadata": {},
   "source": [
    "## Evaluating result"
   ]
  },
  {
   "cell_type": "code",
   "execution_count": 16,
   "id": "0b84b414-b7c2-45f3-8951-775bf60bae09",
   "metadata": {},
   "outputs": [],
   "source": [
    "dictionary = corpora.Dictionary.load('pickles/dictionary_ALL_POPES.gensim')\n",
    "corpus = pickle.load(open('pickles/corpus_ALL_POPES', 'rb'))\n",
    "lda = models.ldamodel.LdaModel.load('models/model_ALL_POPES.gensim')"
   ]
  },
  {
   "cell_type": "code",
   "execution_count": 19,
   "id": "010bda64-9adf-4cdd-9a89-0b3ea0716693",
   "metadata": {},
   "outputs": [
    {
     "name": "stdout",
     "output_type": "stream",
     "text": [
      "Calculating coherence...\n"
     ]
    },
    {
     "data": {
      "text/plain": [
       "-0.528560939497797"
      ]
     },
     "execution_count": 19,
     "metadata": {},
     "output_type": "execute_result"
    }
   ],
   "source": [
    "compute_coherence_values(lda,corp=corpus)"
   ]
  },
  {
   "cell_type": "code",
   "execution_count": 22,
   "id": "d037940e-4c51-442a-b461-267cc21eaacc",
   "metadata": {},
   "outputs": [
    {
     "name": "stdout",
     "output_type": "stream",
     "text": [
      "The distance to ideal is: 0.38661726117421125\n"
     ]
    }
   ],
   "source": [
    "_,dti = how_far_from_ideal(lda)\n",
    "print(f'The distance to ideal is: {dti}')"
   ]
  },
  {
   "cell_type": "code",
   "execution_count": 24,
   "id": "764fd9cd-b64c-48fe-9fbb-51deee95f0af",
   "metadata": {},
   "outputs": [
    {
     "data": {
      "image/png": "[encoded data removed]",
      "text/plain": [
       "<Figure size 1296x1008 with 2 Axes>"
      ]
     },
     "metadata": {
      "needs_background": "light"
     },
     "output_type": "display_data"
    }
   ],
   "source": [
    "diff,ann = plot_difference(lda)"
   ]
  },
  {
   "cell_type": "markdown",
   "id": "32a5c813-f7fd-4558-b78c-ba764437469d",
   "metadata": {},
   "source": [
    "# Appendix\n",
    "### Fitting LDA for each pope individually"
   ]
  },
  {
   "cell_type": "markdown",
   "id": "0b5ba043-d907-4db1-b743-fd563bfde7c8",
   "metadata": {},
   "source": [
    "We will also look at each pope separately and try model topics contained within encyclicals of each pope individually.\n",
    "\n",
    "So for popes who wrote short encyclicals K should be roughly equal to the number of encyclicals, while for those who wrote long ones it can be more than that\n",
    "\n",
    "* $N_{topics} \\propto N_{encyclicals}$\n",
    "* $N_{topics} \\propto (avg.length_{encyclicals.of.pope} - avg.length_{all.encyclicals})^+$  \n",
    "* $N_{topics} \\geq  N_{encyclicals},$\n",
    "\n",
    "where we denote $(x)^+ := \\max(0,x) $ \n",
    "\n",
    "$$ N_{topics} = N_{encyclicals} + \\frac{(avg.length_{encyclicals.of.pope} - avg.length_{all.encyclicals})^+}{\\sigma_{all.encyclicals}}, $$ \n",
    "where $\\sigma_{all.encyclicals}$ is the standard deviation of lengths of all encyclicals. In words, we set the number of topics to the number of encyclicals and we add \"bonus\" topics for every standard deviation above the average of all popes in sample.\n",
    "\n",
    "While this formula seems appealing it unfortunately yielded very high number of topics for some of the popes. While a high number itself does not cause too much of a problem, it is troublesome for visualization and human inspection. Therefore I decided to cap the number of topics to 20, so the final formula is:\n",
    "$$N_{topics.final} = \\min(20,N_{topics})$$\n",
    "\n",
    "We also set a little bit more restrictive constraints on the words to filter."
   ]
  },
  {
   "cell_type": "code",
   "execution_count": 4,
   "id": "54854fbf-715b-4399-a377-2957937b620c",
   "metadata": {},
   "outputs": [
    {
     "name": "stdout",
     "output_type": "stream",
     "text": [
      "Saving model as model_Pius XI.gensim\n"
     ]
    },
    {
     "name": "stderr",
     "output_type": "stream",
     "text": [
      "c:\\users\\wmasl\\appdata\\local\\programs\\python\\python39\\lib\\site-packages\\pyLDAvis\\_prepare.py:246: FutureWarning: In a future version of pandas all arguments of DataFrame.drop except for the argument 'labels' will be keyword-only\n",
      "  default_term_info = default_term_info.sort_values(\n"
     ]
    },
    {
     "name": "stdout",
     "output_type": "stream",
     "text": [
      "Saving model as model_Benedict XV.gensim\n"
     ]
    },
    {
     "name": "stderr",
     "output_type": "stream",
     "text": [
      "c:\\users\\wmasl\\appdata\\local\\programs\\python\\python39\\lib\\site-packages\\pyLDAvis\\_prepare.py:246: FutureWarning: In a future version of pandas all arguments of DataFrame.drop except for the argument 'labels' will be keyword-only\n",
      "  default_term_info = default_term_info.sort_values(\n"
     ]
    },
    {
     "name": "stdout",
     "output_type": "stream",
     "text": [
      "Saving model as model_Pius X.gensim\n"
     ]
    },
    {
     "name": "stderr",
     "output_type": "stream",
     "text": [
      "c:\\users\\wmasl\\appdata\\local\\programs\\python\\python39\\lib\\site-packages\\pyLDAvis\\_prepare.py:246: FutureWarning: In a future version of pandas all arguments of DataFrame.drop except for the argument 'labels' will be keyword-only\n",
      "  default_term_info = default_term_info.sort_values(\n"
     ]
    },
    {
     "name": "stdout",
     "output_type": "stream",
     "text": [
      "Saving model as model_Leo XIII.gensim\n"
     ]
    },
    {
     "name": "stderr",
     "output_type": "stream",
     "text": [
      "c:\\users\\wmasl\\appdata\\local\\programs\\python\\python39\\lib\\site-packages\\pyLDAvis\\_prepare.py:246: FutureWarning: In a future version of pandas all arguments of DataFrame.drop except for the argument 'labels' will be keyword-only\n",
      "  default_term_info = default_term_info.sort_values(\n"
     ]
    }
   ],
   "source": [
    "avg_len_all = np.median(df.enc_text.apply(lambda x: len(x)))\n",
    "sd_len_all = np.std(df.enc_text.apply(lambda x: len(x)))\n",
    "mult = 2\n",
    "for pope in popes[6:]:\n",
    "    df_pope = df[df['popes'] == pope].reset_index().copy()\n",
    "    n_enc = len(df_pope)\n",
    "    \n",
    "    df_pope['len'] = df_pope.enc_text.apply(lambda x: len(x))\n",
    "    avg_len_pope = np.mean(df_pope.len)\n",
    "    k = n_enc + mult*np.floor(max(avg_len_pope-avg_len_all,0)/sd_len_all)\n",
    "    k = min(20,k)\n",
    "    _,__,___ = train_lda(df['enc_text_lem'],\n",
    "              preprocess=False,\n",
    "              render_html=True,\n",
    "              save_model=True,\n",
    "              return_corp_and_dict=True,\n",
    "              model_name=pope,\n",
    "              kwargs_for_preprocess={    'cleanup' : True,\n",
    "                                         'stopwords'  : True,\n",
    "                                         'tokenize'  : True,\n",
    "                                         'lemmatize'  : True,\n",
    "                                         'add_stopwords'  : add_stopwords,\n",
    "                                         'add_chars_to_clean'  : add_characters_to_clean,\n",
    "                                    },\n",
    "              kwargs_for_lda={  'k':k,\n",
    "                                'passes':15\n",
    "                             },\n",
    "              add_kwargs={         'min_bigram' : 20,\n",
    "                                   'min_trigram' : 15,\n",
    "                                   'no_below' : 10,\n",
    "                                   'no_above' : 0.6\n",
    "                                }\n",
    "             )"
   ]
  }
 ],
 "metadata": {
  "kernelspec": {
   "display_name": "Python 3",
   "language": "python",
   "name": "python3"
  },
  "language_info": {
   "codemirror_mode": {
    "name": "ipython",
    "version": 3
   },
   "file_extension": ".py",
   "mimetype": "text/x-python",
   "name": "python",
   "nbconvert_exporter": "python",
   "pygments_lexer": "ipython3",
   "version": "3.9.5"
  }
 },
 "nbformat": 4,
 "nbformat_minor": 5
}
