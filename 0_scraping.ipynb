{
 "cells": [
  {
   "cell_type": "code",
   "execution_count": null,
   "id": "767d8290-7121-4c78-be54-c03ab7a7c5a7",
   "metadata": {},
   "outputs": [],
   "source": [
    "# from bs4 import BeautifulSoup as BS\n",
    "# from urllib.request import Request, urlopen\n",
    "# import re\n",
    "# import pandas as pd\n",
    "# from urllib.error import HTTPError\n",
    "from helper_funs import *\n",
    "import os"
   ]
  },
  {
   "cell_type": "markdown",
   "id": "c84a55c9-10d0-4fe3-9a85-1c92abf43c64",
   "metadata": {},
   "source": [
    "### Setting target links"
   ]
  },
  {
   "cell_type": "code",
   "execution_count": null,
   "id": "540453a8-8aee-4462-8424-a94c003e9cbc",
   "metadata": {},
   "outputs": [],
   "source": [
    "# define links\n",
    "link_base = \"https://www.papalencyclicals.net\"\n",
    "link_popelist = link_base + \"/popelist\""
   ]
  },
  {
   "cell_type": "code",
   "execution_count": null,
   "id": "1f72f932-c7ca-4171-8d3d-a8e6a202e68e",
   "metadata": {},
   "outputs": [],
   "source": [
    "sup = get_url_content(link_popelist)"
   ]
  },
  {
   "cell_type": "code",
   "execution_count": null,
   "id": "a4c0d0d0-ce95-4b17-a6b0-6ad8638962fa",
   "metadata": {},
   "outputs": [],
   "source": [
    "popelinks_raw = sup.find('h3', string = re.compile('.*whom documents are available.*')).parent.parent.next_sibling.next_sibling.find_all('a')"
   ]
  },
  {
   "cell_type": "code",
   "execution_count": null,
   "id": "956ca130-f273-4d61-a6d5-5fb3732ccd4b",
   "metadata": {},
   "outputs": [],
   "source": [
    "popes_with_links = [[popelink.string,popelink['href']] for popelink in popelinks_raw]"
   ]
  },
  {
   "cell_type": "markdown",
   "id": "0c09ba12-9dde-40b2-b984-f361affb1ddd",
   "metadata": {},
   "source": [
    "## Selecting popes and cleaning their names"
   ]
  },
  {
   "cell_type": "code",
   "execution_count": null,
   "id": "a2237c07-d150-44ef-97c0-bc9c391385ca",
   "metadata": {},
   "outputs": [],
   "source": [
    "# select popes here\n",
    "selected_popes_with_links = popes_with_links[:10]\n",
    "# list of selected popes..\n",
    "selected_popes = [popelink[0] for popelink in selected_popes_with_links]\n",
    "#... and their names clean of St. and historical info\n",
    "selected_popes_names = [re.sub('(St.)','',pope) if pope.find('(') < 0 else re.sub('(St.)','',pope[:pope.find('(')]) for pope in selected_popes]\n",
    "selected_popes_names = [name.strip() for name in selected_popes_names]\n",
    "# list of selected links\n",
    "selected_links = [popelink[1] for popelink in selected_popes_with_links]\n",
    "# Replace popes ugly names with nice ones\n",
    "selected_popes_with_links = [[selected_popes_names[i],selected_popes_with_links[i][1]] for i in range(len(selected_popes_with_links))]"
   ]
  },
  {
   "cell_type": "markdown",
   "id": "01f41b81-94d8-436c-84dc-206bc710bed3",
   "metadata": {},
   "source": [
    "## Creating subfolders for each pope"
   ]
  },
  {
   "cell_type": "code",
   "execution_count": null,
   "id": "4b1c0ba1-2532-4542-a286-62bfadf3672c",
   "metadata": {},
   "outputs": [],
   "source": [
    "# create subfolders for each pope\n",
    "for pope in selected_popes_names:\n",
    "    if os.path.exists('./txts/'+pope):\n",
    "        continue\n",
    "    else:\n",
    "        os.mkdir('./txts/'+pope)\n",
    "        \n",
    "# save list of selected popes as pickle\n",
    "with open(\"pickles/selected_popes_names\", \"wb\") as fp:   #Pickling\n",
    "    pickle.dump(selected_popes_names, fp)"
   ]
  },
  {
   "cell_type": "markdown",
   "id": "e2fb0c69-7ca9-4e6c-8a5e-89ed560a7c1c",
   "metadata": {},
   "source": [
    "## Scraping and preparing links to popes personal sites"
   ]
  },
  {
   "cell_type": "code",
   "execution_count": null,
   "id": "9c0448c0-c377-4d08-a560-c29dbd4a0d70",
   "metadata": {},
   "outputs": [],
   "source": [
    "# prepare links to popes personal sites\n",
    "selected_popes_names_linkform = [re.sub(' ','-',pope).lower() if pope != 'Francis' else 'francesco' for pope in selected_popes_names]\n",
    "pope_links =  ['https://www.vatican.va/content/'+pope+'/en/encyclicals.index.html' for pope in selected_popes_names_linkform]\n",
    "# scrap links to encyclicas of all selected popes\n",
    "pope_docs_links = {}\n",
    "for i,pope_link in enumerate(pope_links):\n",
    "   \n",
    "    try:\n",
    "        sup = get_url_content(pope_link)\n",
    "        # some pages have several subpages\n",
    "        if sup.find_all('nav') == []:\n",
    "            pope_docs_links[selected_popes_names[i]] = [tag['href'] for tag in sup.find_all('a', text = 'English')]\n",
    "        # if they do scrap for links each of them\n",
    "        else:\n",
    "            no_of_subpages = int(sup.find('div',{'class':'navigation-info'}).get_text()[-1])   \n",
    "            for j in range(1,no_of_subpages+1):\n",
    "                subpage_link = re.sub('index','index'+'.'+str(j),pope_link)\n",
    "                sub_sup = get_url_content(subpage_link)\n",
    "                for tag in sub_sup.find_all('a', text = 'English'):\n",
    "                    if j == 1:\n",
    "                        pope_docs_links[selected_popes_names[i]] = [tag['href'] for tag in sup.find_all('a', text = 'English')]\n",
    "                    else:\n",
    "                        pope_docs_links[selected_popes_names[i]].append(tag['href'])\n",
    "    except HTTPError:\n",
    "        print('Something wrong with this link: '+pope_link)"
   ]
  },
  {
   "cell_type": "markdown",
   "id": "50119ee5-e6e2-46eb-9f39-ea683712f653",
   "metadata": {},
   "source": [
    "## Defining naming convention of the files"
   ]
  },
  {
   "cell_type": "code",
   "execution_count": null,
   "id": "bbc229c9-2ded-49e2-8661-36c822721a21",
   "metadata": {},
   "outputs": [],
   "source": [
    "# pretty naming of files\n",
    "def get_enc_date(link):\n",
    "    end = link.rfind('_')\n",
    "    start = rfind_nth(link,'_',2)\n",
    "    date = link[start+1:end]\n",
    "    return(date)\n",
    "def get_enc_name(link):\n",
    "    # make names unified: enc_ + title + date\n",
    "    \n",
    "    end = link.find('.html')\n",
    "    start = link.rfind('_')\n",
    "    enc_name = link[start+1:end]\n",
    "    \n",
    "    enc_date = get_enc_date(link)\n",
    "    \n",
    "    if(enc_name.find('enc') >= 0):\n",
    "        enc_name = re.sub('enciclica','enc',enc_name) + '_' + enc_date\n",
    "    else:\n",
    "        enc_name = 'enc_' + enc_name + '_' + enc_date\n",
    "    \n",
    "    enc_name = re.sub('-','_',enc_name)\n",
    "    \n",
    "    return(enc_name)"
   ]
  },
  {
   "cell_type": "markdown",
   "id": "546795e8-4a81-4cc9-974c-63c715b72663",
   "metadata": {},
   "source": [
    "## Scraping the encyclicals to each subfolder"
   ]
  },
  {
   "cell_type": "code",
   "execution_count": null,
   "id": "dccb05bb-c91d-4708-8a67-fd9b726108ce",
   "metadata": {},
   "outputs": [],
   "source": [
    "# scrap encyclicas to each pope's own folder\n",
    "for pope in selected_popes_names:\n",
    "    dirname = 'txts/' + pope + '/' \n",
    "    for i,link in enumerate(pope_docs_links[pope]):\n",
    "        try:\n",
    "            full_link = 'https://www.vatican.va'+ link\n",
    "            sup = get_url_content(full_link)\n",
    "            txt = sup.find('div', {'class','documento'}).get_text()\n",
    "            with open(dirname + f'{get_enc_name(full_link)}.txt', \"w\",encoding=\"utf-8\") as text_file:\n",
    "                text_file.write(txt)\n",
    "        except:\n",
    "            print('Something wrong with this link: '+ full_link)"
   ]
  }
 ],
 "metadata": {
  "kernelspec": {
   "display_name": "Python 3",
   "language": "python",
   "name": "python3"
  },
  "language_info": {
   "codemirror_mode": {
    "name": "ipython",
    "version": 3
   },
   "file_extension": ".py",
   "mimetype": "text/x-python",
   "name": "python",
   "nbconvert_exporter": "python",
   "pygments_lexer": "ipython3",
   "version": "3.9.5"
  }
 },
 "nbformat": 4,
 "nbformat_minor": 5
}
