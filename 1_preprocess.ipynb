{
 "cells": [
  {
   "cell_type": "code",
   "execution_count": 1,
   "id": "fc4fa264-c8e2-4ed2-a9e7-849c75fa9c0c",
   "metadata": {},
   "outputs": [],
   "source": [
    "from helper_funs import *\n",
    "import os\n",
    "\n",
    "# retrieve selected popes names\n",
    "with open(\"pickles/selected_popes_names\", \"rb\") as fp:   # Unpickling\n",
    "    popes = pickle.load(fp)"
   ]
  },
  {
   "cell_type": "markdown",
   "id": "1286b427-c8bc-46fa-9c56-eb8df01589c1",
   "metadata": {},
   "source": [
    "## This notebook merges all encyclicals of given pope to one txt for EDA purposes\n",
    "The workhorse of the actual preprocessing is the function preprocess_text which is defined in the helper_funs.py script."
   ]
  },
  {
   "cell_type": "code",
   "execution_count": 2,
   "id": "a210dba0-5187-4904-a5a6-beefa44c2de8",
   "metadata": {},
   "outputs": [],
   "source": [
    "# make following files:\n",
    "#     file containing all merged encyclicals of each pope (in each pope's folder)\n",
    "\n",
    "def merge_enc_for_pope(pope):\n",
    "    # choose only enc_files from popes folder (in case of rerunning)\n",
    "    pope_dir = 'txts/' + pope\n",
    "    all_files = os.listdir(pope_dir)\n",
    "    enc_files = [file for file in all_files if file.startswith('enc_')]\n",
    "    # merge the listed files to one file\n",
    "    outfile_name = pope + \"_encyclicals.txt\"\n",
    "    with open(pope_dir+'/'+outfile_name, \"w\",encoding=\"utf-8\") as outfile:\n",
    "        for filename in enc_files:\n",
    "            with open(pope_dir+'/'+filename,encoding=\"utf-8\") as infile:\n",
    "                contents = infile.read()\n",
    "                outfile.write(contents)\n",
    "                \n",
    "for pope in popes:\n",
    "    merge_enc_for_pope(pope)\n",
    "\n"
   ]
  },
  {
   "cell_type": "code",
   "execution_count": 3,
   "id": "66d997c7-7a32-4c37-aab4-40ab2cc9fc71",
   "metadata": {},
   "outputs": [
    {
     "name": "stdout",
     "output_type": "stream",
     "text": [
      "merging txts/Francis/Francis_encyclicals.txt to txts/all_enc.txt\n",
      "merging txts/Benedict XVI/Benedict XVI_encyclicals.txt to txts/all_enc.txt\n",
      "merging txts/John Paul II/John Paul II_encyclicals.txt to txts/all_enc.txt\n",
      "merging txts/Paul VI/Paul VI_encyclicals.txt to txts/all_enc.txt\n",
      "merging txts/John XXIII/John XXIII_encyclicals.txt to txts/all_enc.txt\n",
      "merging txts/Pius XII/Pius XII_encyclicals.txt to txts/all_enc.txt\n",
      "merging txts/Pius XI/Pius XI_encyclicals.txt to txts/all_enc.txt\n",
      "merging txts/Benedict XV/Benedict XV_encyclicals.txt to txts/all_enc.txt\n",
      "merging txts/Pius X/Pius X_encyclicals.txt to txts/all_enc.txt\n",
      "merging txts/Leo XIII/Leo XIII_encyclicals.txt to txts/all_enc.txt\n"
     ]
    }
   ],
   "source": [
    "#     file with all encyclicals of all the popes (above popes folders)\n",
    "def merge_enc_for_all_popes(outfile_name,outfile_dir = 'txts',popes = popes):\n",
    "    # choose file with all encyclicals merged from each popes folder\n",
    "    merged_enc_list=['txts/'+pope+'/'+pope+'_encyclicals.txt' for pope in popes]\n",
    "    # rewrite to one big file  \n",
    "    bigfile = outfile_dir+'/'+outfile_name+'.txt'\n",
    "    for i,filename in enumerate(merged_enc_list):\n",
    "        if i == 0:\n",
    "            with open(bigfile, \"w\",encoding=\"utf-8\") as outfile:\n",
    "                print(f'merging {filename} to {bigfile}')\n",
    "                with open(filename,encoding=\"utf-8\") as infile:\n",
    "                    contents = infile.read()\n",
    "                    outfile.write(contents)\n",
    "        else:\n",
    "            with open(bigfile, \"a\",encoding=\"utf-8\") as outfile:\n",
    "                print(f'merging {filename} to {bigfile}')\n",
    "                with open(filename,encoding=\"utf-8\") as infile:\n",
    "                    contents = infile.read()\n",
    "                    outfile.write(contents)\n",
    "merge_enc_for_all_popes('all_enc',outfile_dir = 'txts', popes = popes)"
   ]
  }
 ],
 "metadata": {
  "kernelspec": {
   "display_name": "Python 3",
   "language": "python",
   "name": "python3"
  },
  "language_info": {
   "codemirror_mode": {
    "name": "ipython",
    "version": 3
   },
   "file_extension": ".py",
   "mimetype": "text/x-python",
   "name": "python",
   "nbconvert_exporter": "python",
   "pygments_lexer": "ipython3",
   "version": "3.9.5"
  }
 },
 "nbformat": 4,
 "nbformat_minor": 5
}
